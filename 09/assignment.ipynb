{
 "cells": [
  {
   "cell_type": "markdown",
   "id": "intimate-reserve",
   "metadata": {},
   "source": [
    "# PHYS 105A:  Introduction to Scientific Computing\n",
    "\n",
    "## Minimization or Maximization\n",
    "\n",
    "In this assignment, we will modify the gradient descent method and use it for curve fitting."
   ]
  },
  {
   "cell_type": "code",
   "execution_count": null,
   "id": "looking-netscape",
   "metadata": {},
   "outputs": [],
   "source": [
    "# Step 1. Import Libraries\n",
    "\n",
    "import numpy as np\n",
    "from matplotlib import pyplot as plt"
   ]
  },
  {
   "cell_type": "code",
   "execution_count": null,
   "id": "coated-eligibility",
   "metadata": {},
   "outputs": [],
   "source": [
    "# Step 2. Create our model and add noise to it.\n",
    "\n",
    "def boxcar(t):\n",
    "    return -10 + 2 * t\n",
    "\n",
    "N = 101\n",
    "T = np.linspace(0, 10, N)\n",
    "X = boxcar(T) + np.random.normal(size=N)\n",
    "\n",
    "plt.plot(X)"
   ]
  },
  {
   "cell_type": "code",
   "execution_count": null,
   "id": "different-lighter",
   "metadata": {},
   "outputs": [],
   "source": [
    "# Step 3. Copy the minimization method that we implemented during the lecture\n",
    "#\n",
    "# In the lecture, we want to fit f(x) or f(x, y).  What variables we want to fit here?\n",
    "\n",
    "________\n",
    "    \n",
    "# What input do we need to perform curve fitting?"
   ]
  },
  {
   "cell_type": "code",
   "execution_count": null,
   "id": "racial-pointer",
   "metadata": {},
   "outputs": [],
   "source": [
    "# Step 4. Define what we need for curve fitting\n",
    "#\n",
    "# Note that our minimization code only works for two variables.\n",
    "# Which two variables do we want to use?\n",
    "# \n",
    "# Hint: reduced chi-squared\n",
    "\n",
    "def chisq(________, ________):\n",
    "    return ________\n",
    "\n",
    "def chisq_a(________, ________):\n",
    "    return ________\n",
    "    \n",
    "def chisq_b(________, ________):\n",
    "    return ________"
   ]
  },
  {
   "cell_type": "code",
   "execution_count": null,
   "id": "parliamentary-january",
   "metadata": {},
   "outputs": [],
   "source": [
    "# Step 5. Fit the curve\n",
    "\n",
    "try:\n",
    "    l1 = minimize(chisq, chisq_a, chisq_b, 0, 0, 0.1)\n",
    "except Exception as e:\n",
    "    print('Failed')\n",
    "    l1 = e.args[1]\n",
    "    \n",
    "print(l1)"
   ]
  },
  {
   "cell_type": "code",
   "execution_count": null,
   "id": "recovered-validity",
   "metadata": {},
   "outputs": [],
   "source": [
    "# Step 6. Adjust the initial guess and step size\n",
    "\n",
    "try:\n",
    "    l1 = minimize(chisq, chisq_a, chisq_b, ________, ________, ________)\n",
    "except Exception as e:\n",
    "    print('Failed')\n",
    "    l1 = e.args[1]\n",
    "    \n",
    "print(l1)"
   ]
  },
  {
   "cell_type": "code",
   "execution_count": null,
   "id": "forced-soundtrack",
   "metadata": {
    "scrolled": true
   },
   "outputs": [],
   "source": [
    "# Step 7. Overplot the data and the results\n",
    "\n",
    "a, b = ________\n",
    "\n",
    "plt.plot(T, X)\n",
    "plt.plot(T, a + b * T)"
   ]
  },
  {
   "cell_type": "markdown",
   "id": "experimental-blogger",
   "metadata": {},
   "source": [
    "## Question\n",
    "\n",
    "We learned in the lecture, and tried it in this assignment that the step size is important.  If we choose too small a step size, the numerical scheme may be unstable and oscillate around the true solution forever.\n",
    "\n",
    "Can we simply always choose a very small step size?  What are the advantage and disadvantage of it?\n",
    "\n",
    "Describe a strategy to adjust the step size so that the minimizer is more robust.\n",
    "\n",
    "Please write down your answer in the next cell."
   ]
  },
  {
   "cell_type": "markdown",
   "id": "married-hobby",
   "metadata": {},
   "source": [
    "#________"
   ]
  }
 ],
 "metadata": {
  "kernelspec": {
   "display_name": "Python 3 (ipykernel)",
   "language": "python",
   "name": "python3"
  },
  "language_info": {
   "codemirror_mode": {
    "name": "ipython",
    "version": 3
   },
   "file_extension": ".py",
   "mimetype": "text/x-python",
   "name": "python",
   "nbconvert_exporter": "python",
   "pygments_lexer": "ipython3",
   "version": "3.10.8"
  }
 },
 "nbformat": 4,
 "nbformat_minor": 5
}
