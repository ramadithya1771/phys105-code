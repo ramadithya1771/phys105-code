{
 "cells": [
  {
   "cell_type": "markdown",
   "metadata": {
    "slideshow": {
     "slide_type": "slide"
    }
   },
   "source": [
    "\n",
    "# PHYS 105A:  Introduction to Scientific Computing\n",
    "\n",
    "## Essential Tools for Scientific Computing\n"
   ]
  },
  {
   "cell_type": "markdown",
   "metadata": {
    "slideshow": {
     "slide_type": "slide"
    }
   },
   "source": [
    "## Unix\n",
    "\n",
    "* Multitasking and multiuser operating system from Bell Labs\n",
    "\n",
    "* Licensed for academic and commerical usages, which lead to multiple varieties\n",
    "\n",
    "  * Berkeley (BSD)\n",
    "  * Sun (Solaries)\n",
    "  * HP (HP-UX)\n",
    "  * IBM (AIX)\n",
    "  * Apple (Darwin/macOS)"
   ]
  },
  {
   "cell_type": "markdown",
   "metadata": {
    "slideshow": {
     "slide_type": "slide"
    }
   },
   "source": [
    "![Ken Thompson and Dennis Ritchie](https://upload.wikimedia.org/wikipedia/commons/1/1b/Ken_Thompson_and_Dennis_Ritchie--1973.jpg \"Ken Thompson and Dennis Ritchie\")\n",
    "\n",
    "Ken Thompson and Dennis Ritchie"
   ]
  },
  {
   "cell_type": "markdown",
   "metadata": {
    "slideshow": {
     "slide_type": "slide"
    }
   },
   "source": [
    "## Linux\n",
    "\n",
    "* Linux is an open source project started by Linus Torvalds (who also started Git)\n",
    "* \"Unix-like\" and free\n",
    "\n",
    "  * GNU (system, package, compiler, library)\n",
    "  * Red Hat\n",
    "  * Fedora\n",
    "  * Ubuntu\n",
    "  "
   ]
  },
  {
   "cell_type": "markdown",
   "metadata": {
    "slideshow": {
     "slide_type": "slide"
    }
   },
   "source": [
    "![Linus Torvalds](https://upload.wikimedia.org/wikipedia/commons/5/5c/Linus_Torvalds_%28cropped%29.jpg \"Linus Torvalds\")\n",
    "\n",
    "Linus Torvalds"
   ]
  },
  {
   "cell_type": "markdown",
   "metadata": {
    "slideshow": {
     "slide_type": "slide"
    }
   },
   "source": [
    "## Linux's Popularity\n",
    "\n",
    "Being open source and allow people to freely contribute, Linux is *the backbone of the internet*!\n",
    "\n",
    "* It powers almost all routers\n",
    "* It powers almost all internet servers\n",
    "* It powers almost all supercomputers"
   ]
  },
  {
   "cell_type": "markdown",
   "metadata": {
    "slideshow": {
     "slide_type": "slide"
    }
   },
   "source": [
    "## Unix Philosophy\n",
    "\n",
    "1. Make each program do one thing well. To do a new job, build afresh rather than complicate old programs by adding new \"features\".\n",
    "2. Expect the output of every program to become the input to another, as yet unknown, program. Don't clutter output with extraneous information. Avoid stringently columnar or binary input formats. Don't insist on interactive input.\n",
    "3. Design and build software, even operating systems, to be tried early, ideally within weeks. Don't hesitate to throw away the clumsy parts and rebuild them.\n",
    "4. Use tools in preference to unskilled help to lighten a programming task, even if you have to detour to build the tools and expect to throw some of them out after you've finished using them.\n",
    "\n",
    "Also, \"everything is a file\" on Unix.  Because of these simple design, Unix/Linux is extremely expandable.  Linux actually powers the modern internet!\n",
    "\n",
    "Reference: [The Art of Unix Programming](https://www.amazon.com/dp/0131429019/ref=cm_sw_em_r_mt_dp_uBTaGb39KBA6W), Eric S. Raymond"
   ]
  },
  {
   "cell_type": "markdown",
   "metadata": {
    "slideshow": {
     "slide_type": "slide"
    }
   },
   "source": [
    "## Kernel, Shell, and Applications\n",
    "\n",
    "* But technically, Linux is only a \"kernel\" that manages different resources and tasks on your computer.\n",
    "* In order to interact with the kernel, you need a \"shell\"\n",
    "* The shell allows you to chain programs together, launch applications, etc"
   ]
  },
  {
   "cell_type": "markdown",
   "metadata": {
    "slideshow": {
     "slide_type": "slide"
    }
   },
   "source": [
    "## Terminal\n",
    "\n",
    "![Terminals](https://upload.wikimedia.org/wikipedia/commons/1/1f/Tcsh_ejecut%C3%A1ndose_en_escritorio_Mac_OSX.png \"Terminals\")"
   ]
  },
  {
   "cell_type": "markdown",
   "metadata": {
    "slideshow": {
     "slide_type": "slide"
    }
   },
   "source": [
    "## Popular Shells and Commands\n",
    "\n",
    "* `bash`\n",
    "* `echo`\n",
    "* `ls`, `mv`, `cp`\n",
    "* `head`, `tail`, `cat`\n",
    "* `>`, `>>`, `|`\n",
    "* `nano`, `vim`, or `emacs`\n",
    "* `rsync`, `crontab`, `grep`"
   ]
  },
  {
   "cell_type": "markdown",
   "metadata": {
    "slideshow": {
     "slide_type": "slide"
    }
   },
   "source": [
    "## Programming\n",
    "\n",
    "* Computational thinking\n",
    "  * Abstraction: Problem formulation.\n",
    "  * Automation: Solution expression.\n",
    "  * Analyses: Solution execution and evaluation.\n",
    "* Control complexity."
   ]
  },
  {
   "cell_type": "markdown",
   "metadata": {
    "slideshow": {
     "slide_type": "slide"
    }
   },
   "source": [
    "## List of Programming Languages\n",
    "\n",
    "* Assembly\n",
    "* C, Fortran, Pascal\n",
    "* C++, Java, Swift, Go, Rust\n",
    "* C#, Matlab, Julia\n",
    "* Python, Ruby, Perl\n",
    "* Javascript, PHP\n",
    "* Bash, zsh (shells)\n",
    "* SQL (domain specific)\n",
    "* HTML (not a programming language)\n",
    "\n",
    "Different programming languages are good at different things but programming language is not the most important.  You can write poetry in any langauges, although the \"tastes\" would be different."
   ]
  },
  {
   "cell_type": "markdown",
   "metadata": {
    "slideshow": {
     "slide_type": "slide"
    }
   },
   "source": [
    "## Compiled Language\n",
    "\n",
    "* Text -> executable -> execute\n",
    "* C, C++, Fortran, etc\n",
    "* Typically higher performance\n",
    "* Typically steeper learning curve\n",
    "\n",
    "## Interpreters\n",
    "\n",
    "* Text -> run immediately\n",
    "* Bash, Python, etc\n",
    "* Typically slower\n",
    "* Typically easier to learn"
   ]
  },
  {
   "cell_type": "markdown",
   "metadata": {
    "slideshow": {
     "slide_type": "slide"
    }
   },
   "source": [
    "## Text Editors and Integrated development environment (IDE)\n",
    "\n",
    "* `vim`, `emacs`\n",
    "* Visual Studio, Xcode\n",
    "* VSCode: https://code.visualstudio.com/\n",
    "* Atom:   https://atom.io/\n",
    "* Jupyter Notebook and Lab (default for this course)"
   ]
  },
  {
   "cell_type": "markdown",
   "metadata": {
    "slideshow": {
     "slide_type": "slide"
    }
   },
   "source": [
    "## Modern Software Development\n",
    "\n",
    "Modern software can have millions lines of codes and hundreds of engineers working on them.  Examples include:\n",
    "\n",
    "* https://github.com/torvalds/linux\n",
    "* https://github.com/kubernetes/kubernetes\n",
    "* https://github.com/facebook/react\n",
    "* https://github.com/microsoft/vscode\n",
    "* https://github.com/achael/eht-imaging\n",
    "\n",
    "Need a scalable way to keep track of people's work!"
   ]
  },
  {
   "cell_type": "markdown",
   "metadata": {
    "slideshow": {
     "slide_type": "slide"
    }
   },
   "source": [
    "## Version Control System\n",
    "\n",
    "* CVS (https://en.wikipedia.org/wiki/Concurrent_Versions_System)\n",
    "* Subversion (https://en.wikipedia.org/wiki/Apache_Subversion)\n",
    "* Mercurial (https://www.mercurial-scm.org/)\n",
    "* Git (https://git-scm.com/)"
   ]
  },
  {
   "cell_type": "markdown",
   "metadata": {
    "slideshow": {
     "slide_type": "slide"
    }
   },
   "source": [
    "## Git is a Distributed Version Control System\n",
    "\n",
    "![Git](https://git-scm.com/book/en/v2/images/distributed.png \"Git\")"
   ]
  },
  {
   "cell_type": "markdown",
   "metadata": {
    "slideshow": {
     "slide_type": "slide"
    }
   },
   "source": [
    "## Popular Commands\n",
    "\n",
    "* `git help`\n",
    "* `git clone ...`\n",
    "* `git add ...`\n",
    "* `git commit`\n",
    "* `git pull` and `git push`"
   ]
  },
  {
   "cell_type": "markdown",
   "metadata": {
    "slideshow": {
     "slide_type": "slide"
    }
   },
   "source": [
    "## Jupyter Notebook and Lab\n",
    "\n",
    "Brower-based interactive development envirnoment. \n",
    "\n",
    "![Juptyer](https://jupyterlab.readthedocs.io/en/latest/_images/jupyterlab.png \"Jupyter\")"
   ]
  },
  {
   "cell_type": "markdown",
   "metadata": {
    "slideshow": {
     "slide_type": "slide"
    }
   },
   "source": [
    "## Jupyter Notebook\n",
    "\n",
    "A Jupyter Notebook is a JSON document containing multiple cells of text and codes.  These cells maybe:\n",
    "\n",
    "* Markdown documentation\n",
    "* Codes in `python`, `R`, or even `bash`!\n",
    "* Output of the codes\n",
    "* RAW text"
   ]
  },
  {
   "cell_type": "markdown",
   "metadata": {
    "slideshow": {
     "slide_type": "slide"
    }
   },
   "source": [
    "## Markdown Demo\n",
    "\n",
    "See https://guides.github.com/features/mastering-markdown/ for more details.\n",
    "\n",
    "# This is an `<h1>` tag\n",
    "## This is an `<h2>` tag\n",
    "###### This is an `<h6>` tag\n",
    "\n",
    "*This text will be italic*\n",
    "_This will also be italic_\n",
    "\n",
    "**This text will be bold**\n",
    "__This will also be bold__\n",
    "\n",
    "_You **can** combine them_\n",
    "\n",
    "* Item 1\n",
    "* Item 2\n",
    "  * Item 2a\n",
    "  * Item 2b\n",
    "  \n",
    "1. Item 1\n",
    "1. Item 2\n",
    "1. Item 3\n",
    "   1. Item 3a\n",
    "   1. Item 3b"
   ]
  },
  {
   "cell_type": "code",
   "execution_count": null,
   "metadata": {
    "slideshow": {
     "slide_type": "slide"
    }
   },
   "outputs": [],
   "source": [
    "## Coding Demo\n",
    "\n",
    "# There are some sample python codes\n",
    "\n",
    "# In python, lines start with \"#\" are comments and are not executed.\n",
    "# You may use comments to clarify your program.\n",
    "\n",
    "# To assign a numerical value to a python variable, simply:\n",
    "a = 10\n",
    "\n",
    "# In Jupyter notebook, you may use the print function to print a variable.\n",
    "print(a)\n",
    "\n",
    "# or, the last value in a cell, if it is not assigned to another variable, will be used as output.\n",
    "a"
   ]
  },
  {
   "cell_type": "code",
   "execution_count": null,
   "metadata": {
    "slideshow": {
     "slide_type": "slide"
    }
   },
   "outputs": [],
   "source": [
    "# It is straightforward to do math in python.\n",
    "print(a + 3)\n",
    "print(a - 3)\n",
    "print(a * 3)\n",
    "\n",
    "# Power uses two stars, i.e., \"**\"\n",
    "\n",
    "# pow(a, 3)\n",
    "\n",
    "print(a**9)"
   ]
  },
  {
   "cell_type": "code",
   "execution_count": null,
   "metadata": {
    "slideshow": {
     "slide_type": "slide"
    }
   },
   "outputs": [],
   "source": [
    "# There are many useful functions and constants in the math package:\n",
    "\n",
    "from math import pi, sin, cos\n",
    "\n",
    "print(pi)\n",
    "print(sin(pi))\n",
    "print(cos(pi))"
   ]
  }
 ],
 "metadata": {
  "celltoolbar": "Slideshow",
  "kernelspec": {
   "display_name": "Python 3 (ipykernel)",
   "language": "python",
   "name": "python3"
  },
  "language_info": {
   "codemirror_mode": {
    "name": "ipython",
    "version": 3
   },
   "file_extension": ".py",
   "mimetype": "text/x-python",
   "name": "python",
   "nbconvert_exporter": "python",
   "pygments_lexer": "ipython3",
   "version": "3.10.8"
  }
 },
 "nbformat": 4,
 "nbformat_minor": 4
}
