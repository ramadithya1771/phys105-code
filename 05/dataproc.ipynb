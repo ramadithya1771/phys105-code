{
 "cells": [
  {
   "cell_type": "markdown",
   "id": "mineral-drama",
   "metadata": {
    "slideshow": {
     "slide_type": "slide"
    }
   },
   "source": [
    "# PHYS 105A:  Introduction to Scientific Computing\n",
    "\n",
    "## Data Processing with Python\n"
   ]
  },
  {
   "cell_type": "markdown",
   "id": "excessive-interference",
   "metadata": {
    "slideshow": {
     "slide_type": "slide"
    }
   },
   "source": [
    "## Using numerical and data science packages\n",
    "\n",
    "* This lecture is about statsistics, which means that we need to handle (relatively) large data sets.\n",
    "\n",
    "* While we have learned how to read in text files, handle lists, etc in pure python, it's useful to get some help!\n",
    "\n",
    "* At the end, python is so popular in Data Scinece because of all the packages the python community develop!\n",
    "\n",
    "* We will learn the basic of three packages: `numpy`, `pandas`, and `scipy`"
   ]
  },
  {
   "cell_type": "markdown",
   "id": "civilian-basis",
   "metadata": {
    "slideshow": {
     "slide_type": "slide"
    }
   },
   "source": [
    "## `numpy`\n",
    "\n",
    "* We will start with the `numpy` package.\n",
    "\n",
    "* `numpy` enables array programming in python.  I.e., it enables us to work on a whole array of objects (numbers) \"in one go\" in python.\n",
    "\n",
    "* The backend functionality in `numpy` are written in C, making it very high performance.\n",
    "\n",
    "* The array programming model also provide a natural way to perform handle functions on arrays.\n",
    "\n",
    "* `numpy` is the core package that enables scientific computation in python."
   ]
  },
  {
   "cell_type": "code",
   "execution_count": null,
   "id": "outside-shelf",
   "metadata": {
    "slideshow": {
     "slide_type": "slide"
    }
   },
   "outputs": [],
   "source": [
    "from matplotlib import pyplot as plt\n",
    "from math import sin, pi\n",
    "\n",
    "# for every item i in list [0,1,2,...,98,99] put 0.1*i in the list\n",
    "X = [0.1 * i for i in range(100)]\n",
    "\n",
    "# for every item x in list X put x*x in the list\n",
    "F = [x * x for x in X]\n",
    "\n",
    "# for every item x in list X put 100*sin(x) in the list\n",
    "G = [100 * sin(x) for x in X]\n",
    "\n",
    "plt.plot(X, F) # X and F are two lists with the same number of elements\n",
    "plt.plot(X, G) # the number of elements is determined by the list X"
   ]
  },
  {
   "cell_type": "code",
   "execution_count": null,
   "id": "encouraging-newman",
   "metadata": {
    "slideshow": {
     "slide_type": "slide"
    }
   },
   "outputs": [],
   "source": [
    "import numpy as np # load package numpy and rename it to np\n",
    "\n",
    "X = np.linspace(0, 10, num=100) # google \"numpy.linspace\" see what it does\n",
    "F = X * X # multiplication element-wise\n",
    "G = 100 * np.sin(X) # calculate sin for every element in X then * 100\n",
    "\n",
    "plt.plot(X, F) # same as above\n",
    "plt.plot(X, G) # same as above"
   ]
  },
  {
   "cell_type": "code",
   "execution_count": null,
   "id": "rational-corner",
   "metadata": {
    "slideshow": {
     "slide_type": "slide"
    }
   },
   "outputs": [],
   "source": [
    "# X has a \"data type\"\n",
    "\n",
    "print(X.dtype) # type of data elements in the array\n",
    "print(type(X)) # type of the array\n",
    "\n",
    "# All the values in a numpy array is densely packed as a C array.\n",
    "# Instead of a list of python object.\n",
    "# Numpy array always has a shape, which is a tuple of positive integers.\n",
    "# In 1D, the shape is the same as len()\n",
    "\n",
    "print(X.shape) # X.shape is still a tuple\n",
    "print(len(X)) # but len(X) is a number\n",
    "\n",
    "# But in 2D, they are different\n",
    "\n",
    "Y = np.array([[1,2,3], [4,5,6]]) # definition of a 2D array, see what it looks like when printout\n",
    "\n",
    "print(Y)\n",
    "print(Y.shape)\n",
    "print(len(Y))"
   ]
  },
  {
   "cell_type": "code",
   "execution_count": null,
   "id": "opposed-engineering",
   "metadata": {
    "slideshow": {
     "slide_type": "slide"
    }
   },
   "outputs": [],
   "source": [
    "# Numpy arrays, by default, operate in an \"element-wise\" way.\n",
    "\n",
    "print(Y + 2)\n",
    "print(Y * 2)\n",
    "print(Y * Y)\n",
    "\n",
    "# There is a large number of functions that also work in the \"element-wise\" fasion.\n",
    "\n",
    "print(np.sin(Y))\n",
    "print(np.cos(Y))\n",
    "print(Y ** 3)\n",
    "\n",
    "# if all quantity in an equation is either numpy array or number it'll be element-wise"
   ]
  },
  {
   "cell_type": "markdown",
   "id": "rough-cooperative",
   "metadata": {
    "slideshow": {
     "slide_type": "slide"
    }
   },
   "source": [
    "## `pandas`\n",
    "\n",
    "* While numpy is the core of scientific computation in python, sometimes a large data set contains more information than a plain array.\n",
    "\n",
    "* For example, when you look at an excel spreadsheet, very often each column contains a different physical quality carrying different meaning and even unit (time, income, output).  Saying a spreadsheet is a 2D-array calculator is not totally fair.\n",
    "\n",
    "* The `pandas` package allows us to add that structure, and physical meaning, to different columns of a table.\n",
    "\n",
    "* `pandas` is one of the main package that makes data science work in python!"
   ]
  },
  {
   "cell_type": "code",
   "execution_count": null,
   "id": "prescribed-amino",
   "metadata": {
    "slideshow": {
     "slide_type": "slide"
    }
   },
   "outputs": [],
   "source": [
    "import pandas as pd\n",
    "\n",
    "# The most useful data structure of pandas is a DataFrame, which is more or less a table of 2D array.\n",
    "df = pd.DataFrame([[1,2,3], [4,5,6]])\n",
    "display(df)\n",
    "\n",
    "# The difference is that you can assign meaning to different columns, such as index and column name\n",
    "df = pd.DataFrame([[1,2,3], [4,5,6]], columns=['a', 'b', 'c'])\n",
    "display(df)\n",
    "\n",
    "# Now it is possible to access the diffrent columns by name\n",
    "print(df['a']) # access by key\n",
    "print(df.a)    # access by attribute"
   ]
  },
  {
   "cell_type": "code",
   "execution_count": null,
   "id": "humanitarian-float",
   "metadata": {
    "slideshow": {
     "slide_type": "slide"
    }
   },
   "outputs": [],
   "source": [
    "# It is easy to create a new columns in pandas DataFrame\n",
    "\n",
    "df['sum']  =  df.a + df.b + df.c\n",
    "df['mean'] = (df.a + df.b + df.c) / 3\n",
    "\n",
    "# Note that each column acts as a numpy array, that we can perform \"element-wise\" operations\n",
    "\n",
    "display(df)\n",
    "\n",
    "# We may also see a pandas DataFrame as a database.\n",
    "# Then it makes sense to \"drop\" information...\n",
    "\n",
    "df = df.drop(['sum', 'mean'],axis=1)\n",
    "\n",
    "display(df)"
   ]
  },
  {
   "cell_type": "code",
   "execution_count": null,
   "id": "enclosed-development",
   "metadata": {
    "slideshow": {
     "slide_type": "slide"
    }
   },
   "outputs": [],
   "source": [
    "# Since DataFrame is like a database, we may use pandas to perform some operation \"per row\" for us.\n",
    "\n",
    "display(df.apply(np.sum, axis=1))\n",
    "\n",
    "# We can of course add the resulting column back to the DataFrame\n",
    "\n",
    "df['mean'] = df.apply(np.mean, axis=1)\n",
    "display(df)"
   ]
  },
  {
   "cell_type": "code",
   "execution_count": null,
   "id": "optical-culture",
   "metadata": {
    "slideshow": {
     "slide_type": "slide"
    }
   },
   "outputs": [],
   "source": [
    "# It is actually possible to run shell command in Jupyter notebook.\n",
    "# We simply start with a \"!\".\n",
    "# Let's first look at what files we have in this directory:\n",
    "\n",
    "!ls\n",
    "\n",
    "# We would like to load the \"temperature.csv\" file.\n",
    "# Let's use the Unix command `head` to show what is in it:\n",
    "\n",
    "!head -10 temperature.csv\n",
    "\n",
    "# This file actually contains the world temperature as function of time for the last ~ 150 years!"
   ]
  },
  {
   "cell_type": "code",
   "execution_count": null,
   "id": "decimal-semester",
   "metadata": {
    "slideshow": {
     "slide_type": "slide"
    }
   },
   "outputs": [],
   "source": [
    "# Let's load this file using pandas:\n",
    "\n",
    "df = pd.read_csv('temperature.csv')\n",
    "\n",
    "# That's it!  No file opening, no for loop!\n",
    "\n",
    "display(df)"
   ]
  },
  {
   "cell_type": "code",
   "execution_count": null,
   "id": "engaging-arena",
   "metadata": {
    "slideshow": {
     "slide_type": "slide"
    }
   },
   "outputs": [],
   "source": [
    "# We may now plot the data set.\n",
    "# The plot will take some time.  What's going on?\n",
    "\n",
    "plt.plot(df.date, df.temperature)"
   ]
  },
  {
   "cell_type": "code",
   "execution_count": null,
   "id": "featured-accountability",
   "metadata": {
    "slideshow": {
     "slide_type": "slide"
    }
   },
   "outputs": [],
   "source": [
    "# It turns out that the the \"date\" column is still in string!\n",
    "# And matplotlib is slow in figure out the labels of the x-axis.\n",
    "\n",
    "df.date"
   ]
  },
  {
   "cell_type": "code",
   "execution_count": null,
   "id": "deadly-plane",
   "metadata": {
    "slideshow": {
     "slide_type": "slide"
    }
   },
   "outputs": [],
   "source": [
    "# Fortuantely, pandas has a \"datetime\" type that can help us fix it.\n",
    "\n",
    "df.date = pd.to_datetime(df.date)\n",
    "df.date"
   ]
  },
  {
   "cell_type": "code",
   "execution_count": null,
   "id": "automated-sunrise",
   "metadata": {
    "slideshow": {
     "slide_type": "slide"
    }
   },
   "outputs": [],
   "source": [
    "# Now plotting should take less than a second!\n",
    "# Data type is important!\n",
    "\n",
    "plt.plot(df.date, df.temperature)"
   ]
  },
  {
   "cell_type": "code",
   "execution_count": null,
   "id": "wrapped-tutorial",
   "metadata": {
    "slideshow": {
     "slide_type": "slide"
    }
   },
   "outputs": [],
   "source": [
    "# There are too many data points, let's zoom into the data\n",
    "\n",
    "plt.plot(df.date, df.temperature)\n",
    "plt.xlim(pd.to_datetime('2000'), pd.to_datetime('2010'))\n",
    "\n",
    "# What are these waves?"
   ]
  },
  {
   "cell_type": "code",
   "execution_count": null,
   "id": "earlier-spending",
   "metadata": {
    "slideshow": {
     "slide_type": "slide"
    }
   },
   "outputs": [],
   "source": [
    "# Looking at the period, these look like seasonal variations.\n",
    "# pandas provide tools for us to group the data and then perform group operation.\n",
    "\n",
    "mm = df.groupby(by=[df.date.dt.month]).mean()\n",
    "\n",
    "display(mm)\n",
    "\n",
    "plt.plot(mm.index, mm.temperature)\n",
    "plt.title('Seasonal changes')"
   ]
  },
  {
   "cell_type": "markdown",
   "id": "seventh-ready",
   "metadata": {
    "slideshow": {
     "slide_type": "slide"
    }
   },
   "source": [
    "## Use `scipy` to fit curves\n",
    "\n",
    "* Another very common progress we need to do it to fit curves to data.\n",
    "\n",
    "* `scipy` provides standard [curve fitting](https://docs.scipy.org/doc/scipy/reference/generated/scipy.optimize.curve_fit.html) functions that we can use."
   ]
  },
  {
   "cell_type": "code",
   "execution_count": null,
   "id": "cheap-wells",
   "metadata": {
    "slideshow": {
     "slide_type": "slide"
    }
   },
   "outputs": [],
   "source": [
    "from scipy.optimize import curve_fit\n",
    "\n",
    "# Provide a functional form to fit\n",
    "def func(t, off, amp, phi):\n",
    "    return off + amp * np.sin(2 * pi * (t - phi) / 12)\n",
    "\n",
    "popt, pcov = curve_fit(func, mm.index, mm.temperature)\n",
    "\n",
    "# This contains the fitted parameters\n",
    "print(popt)"
   ]
  },
  {
   "cell_type": "code",
   "execution_count": null,
   "id": "informational-decrease",
   "metadata": {
    "slideshow": {
     "slide_type": "slide"
    }
   },
   "outputs": [],
   "source": [
    "# And we can now overplot the data and the fit\n",
    "\n",
    "plt.plot(mm.index, mm.temperature)\n",
    "plt.plot(mm.index, func(mm.index, *popt))\n",
    "plt.title('Seasonal changes')"
   ]
  }
 ],
 "metadata": {
  "celltoolbar": "Slideshow",
  "kernelspec": {
   "display_name": "Python 3 (ipykernel)",
   "language": "python",
   "name": "python3"
  },
  "language_info": {
   "codemirror_mode": {
    "name": "ipython",
    "version": 3
   },
   "file_extension": ".py",
   "mimetype": "text/x-python",
   "name": "python",
   "nbconvert_exporter": "python",
   "pygments_lexer": "ipython3",
   "version": "3.10.8"
  }
 },
 "nbformat": 4,
 "nbformat_minor": 5
}
