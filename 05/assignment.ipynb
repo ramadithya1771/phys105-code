{
 "cells": [
  {
   "cell_type": "markdown",
   "id": "coastal-fortune",
   "metadata": {},
   "source": [
    "## PHYS 105A:  Introduction to Scientific Computing\n",
    "\n",
    "# Data Processing with Python\n",
    "\n",
    "In this assignment, we will use python to process climate data."
   ]
  },
  {
   "cell_type": "code",
   "execution_count": 1,
   "id": "signed-longitude",
   "metadata": {
    "tags": []
   },
   "outputs": [],
   "source": [
    "# Step 1. Import Libraries\n",
    "\n",
    "import numpy as np\n",
    "import pandas as pd\n",
    "\n",
    "from matplotlib import pyplot as plt\n",
    "from scipy.optimize import curve_fit"
   ]
  },
  {
   "cell_type": "code",
   "execution_count": 4,
   "id": "victorian-average",
   "metadata": {
    "tags": []
   },
   "outputs": [
    {
     "name": "stdout",
     "output_type": "stream",
     "text": [
      "              dt  LandAverageTemperature  LandAverageTemperatureUncertainty  \\\n",
      "0     1750-01-01                   3.034                              3.574   \n",
      "1     1750-02-01                   3.083                              3.702   \n",
      "2     1750-03-01                   5.626                              3.076   \n",
      "3     1750-04-01                   8.490                              2.451   \n",
      "4     1750-05-01                  11.573                              2.072   \n",
      "...          ...                     ...                                ...   \n",
      "3187  2015-08-01                  14.755                              0.072   \n",
      "3188  2015-09-01                  12.999                              0.079   \n",
      "3189  2015-10-01                  10.801                              0.102   \n",
      "3190  2015-11-01                   7.433                              0.119   \n",
      "3191  2015-12-01                   5.518                              0.100   \n",
      "\n",
      "      LandMaxTemperature  LandMaxTemperatureUncertainty  LandMinTemperature  \\\n",
      "0                    NaN                            NaN                 NaN   \n",
      "1                    NaN                            NaN                 NaN   \n",
      "2                    NaN                            NaN                 NaN   \n",
      "3                    NaN                            NaN                 NaN   \n",
      "4                    NaN                            NaN                 NaN   \n",
      "...                  ...                            ...                 ...   \n",
      "3187              20.699                          0.110               9.005   \n",
      "3188              18.845                          0.088               7.199   \n",
      "3189              16.450                          0.059               5.232   \n",
      "3190              12.892                          0.093               2.157   \n",
      "3191              10.725                          0.154               0.287   \n",
      "\n",
      "      LandMinTemperatureUncertainty  LandAndOceanAverageTemperature  \\\n",
      "0                               NaN                             NaN   \n",
      "1                               NaN                             NaN   \n",
      "2                               NaN                             NaN   \n",
      "3                               NaN                             NaN   \n",
      "4                               NaN                             NaN   \n",
      "...                             ...                             ...   \n",
      "3187                          0.170                          17.589   \n",
      "3188                          0.229                          17.049   \n",
      "3189                          0.115                          16.290   \n",
      "3190                          0.106                          15.252   \n",
      "3191                          0.099                          14.774   \n",
      "\n",
      "      LandAndOceanAverageTemperatureUncertainty  \n",
      "0                                           NaN  \n",
      "1                                           NaN  \n",
      "2                                           NaN  \n",
      "3                                           NaN  \n",
      "4                                           NaN  \n",
      "...                                         ...  \n",
      "3187                                      0.057  \n",
      "3188                                      0.058  \n",
      "3189                                      0.062  \n",
      "3190                                      0.063  \n",
      "3191                                      0.062  \n",
      "\n",
      "[3192 rows x 9 columns]\n"
     ]
    },
    {
     "data": {
      "text/plain": [
       "Index(['dt', 'LandAverageTemperature', 'LandAverageTemperatureUncertainty',\n",
       "       'LandMaxTemperature', 'LandMaxTemperatureUncertainty',\n",
       "       'LandMinTemperature', 'LandMinTemperatureUncertainty',\n",
       "       'LandAndOceanAverageTemperature',\n",
       "       'LandAndOceanAverageTemperatureUncertainty'],\n",
       "      dtype='object')"
      ]
     },
     "execution_count": 4,
     "metadata": {},
     "output_type": "execute_result"
    }
   ],
   "source": [
    "# Step 2. Load data from csv file\n",
    "\n",
    "df = pd.read_csv('GlobalTemperatures.csv')\n",
    "# You may look at the column names by\n",
    "df.columns"
   ]
  },
  {
   "cell_type": "code",
   "execution_count": 3,
   "id": "american-officer",
   "metadata": {
    "tags": []
   },
   "outputs": [
    {
     "ename": "AttributeError",
     "evalue": "module 'pandas' has no attribute '________'",
     "output_type": "error",
     "traceback": [
      "\u001b[0;31m---------------------------------------------------------------------------\u001b[0m",
      "\u001b[0;31mAttributeError\u001b[0m                            Traceback (most recent call last)",
      "Cell \u001b[0;32mIn[3], line 3\u001b[0m\n\u001b[1;32m      1\u001b[0m \u001b[38;5;66;03m# Step 3. Convert the \"dt\" column to datetime format\u001b[39;00m\n\u001b[0;32m----> 3\u001b[0m df\u001b[38;5;241m.\u001b[39mdt \u001b[38;5;241m=\u001b[39m pd\u001b[38;5;241m.\u001b[39m________(df\u001b[38;5;241m.\u001b[39mdt)\n",
      "\u001b[0;31mAttributeError\u001b[0m: module 'pandas' has no attribute '________'"
     ]
    }
   ],
   "source": [
    "# Step 3. Convert the \"dt\" column to datetime format\n",
    "\n",
    "df.dt = pd.________(df.dt) # what function to call here?"
   ]
  },
  {
   "cell_type": "code",
   "execution_count": null,
   "id": "dietary-vegetable",
   "metadata": {
    "tags": []
   },
   "outputs": [],
   "source": [
    "# Step 4. Plot the different columns\n",
    "\n",
    "plt.plot(df.______, df.______)"
   ]
  },
  {
   "cell_type": "code",
   "execution_count": null,
   "id": "anonymous-current",
   "metadata": {
    "tags": []
   },
   "outputs": [],
   "source": [
    "# Step 5. Average the temperature every year\n",
    "#\n",
    "# The seasonal changes in temperature is confusing.\n",
    "# Let's try to average them out by using pandas' \"groupby()\" function.\n",
    "# What do you see?\n",
    "\n",
    "ym = df.groupby(by=[________]).mean()\n",
    "\n",
    "display(ym)\n",
    "\n",
    "plt.plot(ym.index, ym.________)"
   ]
  },
  {
   "cell_type": "code",
   "execution_count": null,
   "id": "antique-section",
   "metadata": {
    "tags": []
   },
   "outputs": [],
   "source": [
    "# Step 6. Fit a model to the global temperature changes\n",
    "\n",
    "# Construct a model\n",
    "def func(t, ________):\n",
    "    return ________\n",
    "\n",
    "popt, pcov = curve_fit(func, ym.index, ym.________)\n",
    "\n",
    "# This contains the fitted parameters\n",
    "print(popt)"
   ]
  },
  {
   "cell_type": "code",
   "execution_count": null,
   "id": "obvious-lighting",
   "metadata": {
    "tags": []
   },
   "outputs": [],
   "source": [
    "# Step 7. Overfit the model to the data.\n",
    "\n",
    "plt.plot(ym.index, ym.________)\n",
    "plt.plot(ym.index, func(ym.index, *popt))"
   ]
  },
  {
   "cell_type": "code",
   "execution_count": null,
   "id": "dbecc766-0059-420c-9a89-769eee3f7f43",
   "metadata": {},
   "outputs": [],
   "source": []
  }
 ],
 "metadata": {
  "kernelspec": {
   "display_name": "Python 3 (ipykernel)",
   "language": "python",
   "name": "python3"
  },
  "language_info": {
   "codemirror_mode": {
    "name": "ipython",
    "version": 3
   },
   "file_extension": ".py",
   "mimetype": "text/x-python",
   "name": "python",
   "nbconvert_exporter": "python",
   "pygments_lexer": "ipython3",
   "version": "3.11.5"
  }
 },
 "nbformat": 4,
 "nbformat_minor": 5
}
