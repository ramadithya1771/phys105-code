{
 "cells": [
  {
   "cell_type": "markdown",
   "id": "coastal-fortune",
   "metadata": {},
   "source": [
    "## PHYS 105A:  Introduction to Scientific Computing\n",
    "\n",
    "# Data Processing with Python\n",
    "\n",
    "In this assignment, we will use python to process climate data."
   ]
  },
  {
   "cell_type": "code",
   "execution_count": 10,
   "id": "signed-longitude",
   "metadata": {
    "tags": []
   },
   "outputs": [],
   "source": [
    "# Step 1. Import Libraries\n",
    "\n",
    "import numpy as np\n",
    "import pandas as pd\n",
    "from matplotlib import pyplot as plt\n",
    "from scipy.optimize import curve_fit\n",
    "import math"
   ]
  },
  {
   "cell_type": "code",
   "execution_count": 11,
   "id": "victorian-average",
   "metadata": {
    "tags": []
   },
   "outputs": [
    {
     "data": {
      "text/plain": [
       "Index(['dt', 'LandAverageTemperature', 'LandAverageTemperatureUncertainty',\n",
       "       'LandMaxTemperature', 'LandMaxTemperatureUncertainty',\n",
       "       'LandMinTemperature', 'LandMinTemperatureUncertainty',\n",
       "       'LandAndOceanAverageTemperature',\n",
       "       'LandAndOceanAverageTemperatureUncertainty'],\n",
       "      dtype='object')"
      ]
     },
     "execution_count": 11,
     "metadata": {},
     "output_type": "execute_result"
    }
   ],
   "source": [
    "# Step 2. Load data from csv file\n",
    "\n",
    "df = pd.read_csv('GlobalTemperatures.csv')\n",
    "# You may look at the column names by\n",
    "df.columns"
   ]
  },
  {
   "cell_type": "code",
   "execution_count": 12,
   "id": "american-officer",
   "metadata": {
    "tags": []
   },
   "outputs": [],
   "source": [
    "# Step 3. Convert the \"dt\" column to datetime format\n",
    "\n",
    "df.dt = pd.to_datetime(df.dt) # what function to call here?"
   ]
  },
  {
   "cell_type": "code",
   "execution_count": 13,
   "id": "dietary-vegetable",
   "metadata": {
    "tags": []
   },
   "outputs": [
    {
     "data": {
      "text/plain": [
       "[<matplotlib.lines.Line2D at 0x168e7ae10>]"
      ]
     },
     "execution_count": 13,
     "metadata": {},
     "output_type": "execute_result"
    },
    {
     "data": {
      "image/png": "[encoded data removed]",
      "text/plain": [
       "<Figure size 640x480 with 1 Axes>"
      ]
     },
     "metadata": {},
     "output_type": "display_data"
    }
   ],
   "source": [
    "# Step 4. Plot the different columns\n",
    "\n",
    "plt.plot(df.dt, df.LandAverageTemperature)"
   ]
  },
  {
   "cell_type": "code",
   "execution_count": 14,
   "id": "anonymous-current",
   "metadata": {
    "tags": []
   },
   "outputs": [
    {
     "data": {
      "text/html": [
       "<div>\n",
       "<style scoped>\n",
       "    .dataframe tbody tr th:only-of-type {\n",
       "        vertical-align: middle;\n",
       "    }\n",
       "\n",
       "    .dataframe tbody tr th {\n",
       "        vertical-align: top;\n",
       "    }\n",
       "\n",
       "    .dataframe thead th {\n",
       "        text-align: right;\n",
       "    }\n",
       "</style>\n",
       "<table border=\"1\" class=\"dataframe\">\n",
       "  <thead>\n",
       "    <tr style=\"text-align: right;\">\n",
       "      <th></th>\n",
       "      <th>dt</th>\n",
       "      <th>LandAverageTemperature</th>\n",
       "      <th>LandAverageTemperatureUncertainty</th>\n",
       "      <th>LandMaxTemperature</th>\n",
       "      <th>LandMaxTemperatureUncertainty</th>\n",
       "      <th>LandMinTemperature</th>\n",
       "      <th>LandMinTemperatureUncertainty</th>\n",
       "      <th>LandAndOceanAverageTemperature</th>\n",
       "      <th>LandAndOceanAverageTemperatureUncertainty</th>\n",
       "    </tr>\n",
       "    <tr>\n",
       "      <th>dt</th>\n",
       "      <th></th>\n",
       "      <th></th>\n",
       "      <th></th>\n",
       "      <th></th>\n",
       "      <th></th>\n",
       "      <th></th>\n",
       "      <th></th>\n",
       "      <th></th>\n",
       "      <th></th>\n",
       "    </tr>\n",
       "  </thead>\n",
       "  <tbody>\n",
       "    <tr>\n",
       "      <th>1</th>\n",
       "      <td>1882-07-02 06:13:32.030074880</td>\n",
       "      <td>2.275211</td>\n",
       "      <td>1.309429</td>\n",
       "      <td>8.178657</td>\n",
       "      <td>0.544428</td>\n",
       "      <td>-2.934572</td>\n",
       "      <td>0.521645</td>\n",
       "      <td>13.458054</td>\n",
       "      <td>0.140849</td>\n",
       "    </tr>\n",
       "    <tr>\n",
       "      <th>2</th>\n",
       "      <td>1882-08-02 06:13:32.030075392</td>\n",
       "      <td>2.961521</td>\n",
       "      <td>1.289389</td>\n",
       "      <td>8.921410</td>\n",
       "      <td>0.541265</td>\n",
       "      <td>-2.672711</td>\n",
       "      <td>0.506819</td>\n",
       "      <td>13.722807</td>\n",
       "      <td>0.139765</td>\n",
       "    </tr>\n",
       "    <tr>\n",
       "      <th>3</th>\n",
       "      <td>1882-08-30 12:00:00.000000000</td>\n",
       "      <td>4.956872</td>\n",
       "      <td>1.033613</td>\n",
       "      <td>11.137169</td>\n",
       "      <td>0.480904</td>\n",
       "      <td>-0.866500</td>\n",
       "      <td>0.456060</td>\n",
       "      <td>14.339988</td>\n",
       "      <td>0.129904</td>\n",
       "    </tr>\n",
       "    <tr>\n",
       "      <th>4</th>\n",
       "      <td>1882-09-30 12:00:00.000000000</td>\n",
       "      <td>8.248688</td>\n",
       "      <td>0.877071</td>\n",
       "      <td>14.290331</td>\n",
       "      <td>0.472970</td>\n",
       "      <td>2.247699</td>\n",
       "      <td>0.426380</td>\n",
       "      <td>15.215886</td>\n",
       "      <td>0.127337</td>\n",
       "    </tr>\n",
       "    <tr>\n",
       "      <th>5</th>\n",
       "      <td>1882-10-30 12:00:00.000000000</td>\n",
       "      <td>11.153053</td>\n",
       "      <td>0.819394</td>\n",
       "      <td>17.133729</td>\n",
       "      <td>0.497590</td>\n",
       "      <td>5.179536</td>\n",
       "      <td>0.415988</td>\n",
       "      <td>15.996398</td>\n",
       "      <td>0.128349</td>\n",
       "    </tr>\n",
       "    <tr>\n",
       "      <th>6</th>\n",
       "      <td>1882-11-30 12:00:00.000000000</td>\n",
       "      <td>13.343415</td>\n",
       "      <td>0.774898</td>\n",
       "      <td>19.226663</td>\n",
       "      <td>0.466223</td>\n",
       "      <td>7.407331</td>\n",
       "      <td>0.366054</td>\n",
       "      <td>16.597602</td>\n",
       "      <td>0.122976</td>\n",
       "    </tr>\n",
       "    <tr>\n",
       "      <th>7</th>\n",
       "      <td>1882-12-30 12:00:00.000000000</td>\n",
       "      <td>14.307784</td>\n",
       "      <td>0.782561</td>\n",
       "      <td>20.070217</td>\n",
       "      <td>0.490187</td>\n",
       "      <td>8.423861</td>\n",
       "      <td>0.384349</td>\n",
       "      <td>16.902639</td>\n",
       "      <td>0.126861</td>\n",
       "    </tr>\n",
       "    <tr>\n",
       "      <th>8</th>\n",
       "      <td>1883-01-30 12:00:00.000000000</td>\n",
       "      <td>13.760064</td>\n",
       "      <td>0.778060</td>\n",
       "      <td>19.646892</td>\n",
       "      <td>0.435440</td>\n",
       "      <td>7.960934</td>\n",
       "      <td>0.389127</td>\n",
       "      <td>16.809410</td>\n",
       "      <td>0.128367</td>\n",
       "    </tr>\n",
       "    <tr>\n",
       "      <th>9</th>\n",
       "      <td>1883-03-02 12:00:00.000000000</td>\n",
       "      <td>11.723170</td>\n",
       "      <td>0.762015</td>\n",
       "      <td>17.831620</td>\n",
       "      <td>0.410880</td>\n",
       "      <td>6.138301</td>\n",
       "      <td>0.388373</td>\n",
       "      <td>16.212114</td>\n",
       "      <td>0.122139</td>\n",
       "    </tr>\n",
       "    <tr>\n",
       "      <th>10</th>\n",
       "      <td>1883-04-01 12:00:00.000000000</td>\n",
       "      <td>8.884943</td>\n",
       "      <td>0.798498</td>\n",
       "      <td>15.117795</td>\n",
       "      <td>0.428675</td>\n",
       "      <td>3.543843</td>\n",
       "      <td>0.411506</td>\n",
       "      <td>15.330572</td>\n",
       "      <td>0.119922</td>\n",
       "    </tr>\n",
       "    <tr>\n",
       "      <th>11</th>\n",
       "      <td>1883-05-02 12:00:00.000000000</td>\n",
       "      <td>5.742405</td>\n",
       "      <td>0.962277</td>\n",
       "      <td>11.591337</td>\n",
       "      <td>0.474229</td>\n",
       "      <td>0.377120</td>\n",
       "      <td>0.431343</td>\n",
       "      <td>14.310422</td>\n",
       "      <td>0.123602</td>\n",
       "    </tr>\n",
       "    <tr>\n",
       "      <th>12</th>\n",
       "      <td>1883-06-01 12:00:00.000000000</td>\n",
       "      <td>3.198977</td>\n",
       "      <td>1.071936</td>\n",
       "      <td>9.061392</td>\n",
       "      <td>0.514590</td>\n",
       "      <td>-1.881699</td>\n",
       "      <td>0.484542</td>\n",
       "      <td>13.654898</td>\n",
       "      <td>0.132313</td>\n",
       "    </tr>\n",
       "  </tbody>\n",
       "</table>\n",
       "</div>"
      ],
      "text/plain": [
       "                              dt  LandAverageTemperature  \\\n",
       "dt                                                         \n",
       "1  1882-07-02 06:13:32.030074880                2.275211   \n",
       "2  1882-08-02 06:13:32.030075392                2.961521   \n",
       "3  1882-08-30 12:00:00.000000000                4.956872   \n",
       "4  1882-09-30 12:00:00.000000000                8.248688   \n",
       "5  1882-10-30 12:00:00.000000000               11.153053   \n",
       "6  1882-11-30 12:00:00.000000000               13.343415   \n",
       "7  1882-12-30 12:00:00.000000000               14.307784   \n",
       "8  1883-01-30 12:00:00.000000000               13.760064   \n",
       "9  1883-03-02 12:00:00.000000000               11.723170   \n",
       "10 1883-04-01 12:00:00.000000000                8.884943   \n",
       "11 1883-05-02 12:00:00.000000000                5.742405   \n",
       "12 1883-06-01 12:00:00.000000000                3.198977   \n",
       "\n",
       "    LandAverageTemperatureUncertainty  LandMaxTemperature  \\\n",
       "dt                                                          \n",
       "1                            1.309429            8.178657   \n",
       "2                            1.289389            8.921410   \n",
       "3                            1.033613           11.137169   \n",
       "4                            0.877071           14.290331   \n",
       "5                            0.819394           17.133729   \n",
       "6                            0.774898           19.226663   \n",
       "7                            0.782561           20.070217   \n",
       "8                            0.778060           19.646892   \n",
       "9                            0.762015           17.831620   \n",
       "10                           0.798498           15.117795   \n",
       "11                           0.962277           11.591337   \n",
       "12                           1.071936            9.061392   \n",
       "\n",
       "    LandMaxTemperatureUncertainty  LandMinTemperature  \\\n",
       "dt                                                      \n",
       "1                        0.544428           -2.934572   \n",
       "2                        0.541265           -2.672711   \n",
       "3                        0.480904           -0.866500   \n",
       "4                        0.472970            2.247699   \n",
       "5                        0.497590            5.179536   \n",
       "6                        0.466223            7.407331   \n",
       "7                        0.490187            8.423861   \n",
       "8                        0.435440            7.960934   \n",
       "9                        0.410880            6.138301   \n",
       "10                       0.428675            3.543843   \n",
       "11                       0.474229            0.377120   \n",
       "12                       0.514590           -1.881699   \n",
       "\n",
       "    LandMinTemperatureUncertainty  LandAndOceanAverageTemperature  \\\n",
       "dt                                                                  \n",
       "1                        0.521645                       13.458054   \n",
       "2                        0.506819                       13.722807   \n",
       "3                        0.456060                       14.339988   \n",
       "4                        0.426380                       15.215886   \n",
       "5                        0.415988                       15.996398   \n",
       "6                        0.366054                       16.597602   \n",
       "7                        0.384349                       16.902639   \n",
       "8                        0.389127                       16.809410   \n",
       "9                        0.388373                       16.212114   \n",
       "10                       0.411506                       15.330572   \n",
       "11                       0.431343                       14.310422   \n",
       "12                       0.484542                       13.654898   \n",
       "\n",
       "    LandAndOceanAverageTemperatureUncertainty  \n",
       "dt                                             \n",
       "1                                    0.140849  \n",
       "2                                    0.139765  \n",
       "3                                    0.129904  \n",
       "4                                    0.127337  \n",
       "5                                    0.128349  \n",
       "6                                    0.122976  \n",
       "7                                    0.126861  \n",
       "8                                    0.128367  \n",
       "9                                    0.122139  \n",
       "10                                   0.119922  \n",
       "11                                   0.123602  \n",
       "12                                   0.132313  "
      ]
     },
     "metadata": {},
     "output_type": "display_data"
    },
    {
     "data": {
      "text/plain": [
       "[<matplotlib.lines.Line2D at 0x174417ed0>]"
      ]
     },
     "execution_count": 14,
     "metadata": {},
     "output_type": "execute_result"
    },
    {
     "data": {
      "image/png": "[encoded data removed]",
      "text/plain": [
       "<Figure size 640x480 with 1 Axes>"
      ]
     },
     "metadata": {},
     "output_type": "display_data"
    }
   ],
   "source": [
    "# Step 5. Average the temperature every year\n",
    "#\n",
    "# The seasonal changes in temperature is confusing.\n",
    "# Let's try to average them out by using pandas' \"groupby()\" function.\n",
    "# What do you see?\n",
    "\n",
    "ym = df.groupby(by=[df.dt.dt.month]).mean()\n",
    "\n",
    "display(ym)\n",
    "\n",
    "plt.plot(ym.index, ym.LandAverageTemperature)"
   ]
  },
  {
   "cell_type": "code",
   "execution_count": 15,
   "id": "antique-section",
   "metadata": {
    "tags": []
   },
   "outputs": [
    {
     "name": "stdout",
     "output_type": "stream",
     "text": [
      "[ 8.37967531 -6.05352346 10.11245158]\n"
     ]
    }
   ],
   "source": [
    "# Step 6. Fit a model to the global temperature changes\n",
    "\n",
    "# Construct a model\n",
    "def func(t, offset, amplitude, phase):\n",
    "    return offset + amplitude * np.sin(2* math.pi*(t- phase)/12)\n",
    "\n",
    "popt, pcov = curve_fit(func, ym.index, ym.LandAverageTemperature)\n",
    "\n",
    "# This contains the fitted parameters\n",
    "print(popt)"
   ]
  },
  {
   "cell_type": "code",
   "execution_count": 17,
   "id": "obvious-lighting",
   "metadata": {
    "tags": []
   },
   "outputs": [
    {
     "data": {
      "text/plain": [
       "[<matplotlib.lines.Line2D at 0x17445c510>]"
      ]
     },
     "execution_count": 17,
     "metadata": {},
     "output_type": "execute_result"
    },
    {
     "data": {
      "image/png": "[encoded data removed]",
      "text/plain": [
       "<Figure size 640x480 with 1 Axes>"
      ]
     },
     "metadata": {},
     "output_type": "display_data"
    }
   ],
   "source": [
    "# Step 7. Overfit the model to the data.\n",
    "\n",
    "plt.plot(ym.index, ym.LandAverageTemperature)\n",
    "plt.plot(ym.index, func(ym.index, *popt))"
   ]
  },
  {
   "cell_type": "code",
   "execution_count": null,
   "id": "dbecc766-0059-420c-9a89-769eee3f7f43",
   "metadata": {},
   "outputs": [],
   "source": []
  }
 ],
 "metadata": {
  "kernelspec": {
   "display_name": "Python 3 (ipykernel)",
   "language": "python",
   "name": "python3"
  },
  "language_info": {
   "codemirror_mode": {
    "name": "ipython",
    "version": 3
   },
   "file_extension": ".py",
   "mimetype": "text/x-python",
   "name": "python",
   "nbconvert_exporter": "python",
   "pygments_lexer": "ipython3",
   "version": "3.11.5"
  }
 },
 "nbformat": 4,
 "nbformat_minor": 5
}
