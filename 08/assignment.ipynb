{
 "cells": [
  {
   "cell_type": "markdown",
   "id": "similar-light",
   "metadata": {},
   "source": [
    "# PHYS 105A:  Introduction to Scientific Computing\n",
    "\n",
    "## Assignment: Root Finding\n",
    "\n",
    "In this assignment, we will modify the bisection method and use it solve for the roots of chebyshev polynomials to machine accuracy."
   ]
  },
  {
   "cell_type": "markdown",
   "id": "innovative-morris",
   "metadata": {},
   "source": [
    "## Chebyshev polynomial\n",
    "\n",
    "* The Chebyshev polynomials are special polynomials that are extremely useful in approximation theory.\n",
    "\n",
    "* The Chebyshev polynomials of the first kind $T_{n}$ are given by:\n",
    "\n",
    "  $T_{n}\\left(\\cos {\\theta }\\right)=\\cos {(n\\theta )} \\Rightarrow T_{n}\\left(x\\right)=\\cos {(n\\arccos x )}$\n",
    "  \n",
    "* There is a recursion relationship:\n",
    "\n",
    "  $T_{0}(x)=1$\n",
    "  \n",
    "  $T_{1}(x)=x$\n",
    "  \n",
    "  $T_{n+1}(x)=2x\\,T_{n}(x)-T_{n-1}(x)$\n",
    "  \n",
    "* From the definition, it is easy to show its roots are:\n",
    "\n",
    "  $x_{k}=\\cos \\left[{\\frac{\\pi (k+1/2)}{n}}\\right],\\quad k=0,\\ldots ,n-1$"
   ]
  },
  {
   "cell_type": "markdown",
   "id": "hydraulic-belle",
   "metadata": {},
   "source": [
    "* In this assignment, we will solve the roots of the Chebyshev polynomials.\n",
    "\n",
    "* We will also learn closures and recursion in python."
   ]
  },
  {
   "cell_type": "code",
   "execution_count": null,
   "id": "biblical-india",
   "metadata": {},
   "outputs": [],
   "source": [
    "# Step 1. Import Libraries\n",
    "\n",
    "import numpy as np\n",
    "from matplotlib import pyplot as plt"
   ]
  },
  {
   "cell_type": "code",
   "execution_count": null,
   "id": "environmental-detroit",
   "metadata": {},
   "outputs": [],
   "source": [
    "# Step 2. Implement our Chebyshev polynomial\n",
    "\n",
    "def ChebT(x, n):\n",
    "    if n == 0:\n",
    "        return 1 + 0*x # a hack so it works for numpy arrays\n",
    "    elif n == 1:\n",
    "        return x\n",
    "    else:\n",
    "        return 2 * x * ChebT(x, n-1) - ChebT(x, n-2) # recursion definition"
   ]
  },
  {
   "cell_type": "code",
   "execution_count": null,
   "id": "split-transparency",
   "metadata": {},
   "outputs": [],
   "source": [
    "# Step 3. Plot our Chebyshev polynomial\n",
    "\n",
    "x = np.linspace(-1, 1, 2001)\n",
    "for n in range(6):\n",
    "    plt.plot(x, ChebT(x, n), label=n)\n",
    "plt.axhline(y=0, color='k', lw=0.5)\n",
    "plt.legend()"
   ]
  },
  {
   "cell_type": "code",
   "execution_count": null,
   "id": "conceptual-prime",
   "metadata": {},
   "outputs": [],
   "source": [
    "# Step 4. Copy the bisection method from the lecture to here\n",
    "\n",
    "def bisection(f, a, b, acc=1e-12, nmax=100):\n",
    "    ________"
   ]
  },
  {
   "cell_type": "code",
   "execution_count": null,
   "id": "secret-supervision",
   "metadata": {},
   "outputs": [],
   "source": [
    "# Step 5. Test if the bisection method work\n",
    "\n",
    "for n in [1,3,5]:\n",
    "    def ChebTn(x):\n",
    "        return ChebT(x, n) # This is called function closure\n",
    "    \n",
    "    print(bisection(ChebTn, -1, 1))"
   ]
  },
  {
   "cell_type": "code",
   "execution_count": null,
   "id": "olive-calvin",
   "metadata": {},
   "outputs": [],
   "source": [
    "# Step 6. What if we try even order Chebyshev polynomial?\n",
    "\n",
    "for n in ________:\n",
    "    def ChebTn(x):\n",
    "        return ChebT(x, n) # This is called function closure\n",
    "    \n",
    "    print(bisection(ChebTn, -1, 1))"
   ]
  },
  {
   "cell_type": "code",
   "execution_count": null,
   "id": "modified-repository",
   "metadata": {},
   "outputs": [],
   "source": [
    "# Step 7. Hack the bisection method\n",
    "#\n",
    "# The idea here is, if we are unluck and f(a) and f(b) have same signs,\n",
    "# we want to sub-divide the interval [a, b] into multiple intervals, \n",
    "# and evaluate f at the sub intervals.\n",
    "# If f(m) has a different sign than f(a) and f(b), then we can apply bisection\n",
    "# method to [a, m] or [m, b].\n",
    "\n",
    "def nsection(f, a, b, n):\n",
    "    try:\n",
    "        return bisection(________)\n",
    "    except ValueError:\n",
    "        pass\n",
    "    \n",
    "    l = f(a)\n",
    "    for i in range(1,n):\n",
    "        m = a + (b-a)*i/n\n",
    "        if l * f(m) <= 0:\n",
    "            if i <= n//2:\n",
    "                return bisection(________)\n",
    "            else:\n",
    "                return bisection(________)\n",
    "\n",
    "    raise Exception(\"No root found\")"
   ]
  },
  {
   "cell_type": "code",
   "execution_count": null,
   "id": "fossil-satisfaction",
   "metadata": {},
   "outputs": [],
   "source": [
    "# Step 8. Use recursion to solve for all roots\n",
    "\n",
    "def all_roots(f, a, b, n):\n",
    "    try:\n",
    "        root = nsection(f, a, b, n)\n",
    "    except Exception:\n",
    "        return []\n",
    "\n",
    "    # Recursion, we want to look for all possible roots\n",
    "    # in the left and right segments\n",
    "    l = all_roots(f, a, root-1e-12, n)\n",
    "    r = all_roots(________)\n",
    "    \n",
    "    # Combine the results and return a list\n",
    "    return l + [root] + r"
   ]
  },
  {
   "cell_type": "code",
   "execution_count": null,
   "id": "covered-reporter",
   "metadata": {},
   "outputs": [],
   "source": [
    "# Step 9. Test the results\n",
    "\n",
    "roots_list = []\n",
    "for n in range(16):\n",
    "    def ChebTn(x):\n",
    "        return ChebT(x, n)\n",
    "\n",
    "    roots = np.sort(all_roots(ChebTn, -1, 1, n))\n",
    "    print(len(roots), np.around(roots, 3))\n",
    "\n",
    "    solution = np.sort(np.cos(np.pi * (np.arange(n)+0.5)/n))\n",
    "    print(abs(roots - solution))\n",
    "    \n",
    "    roots_list.append(roots)"
   ]
  },
  {
   "cell_type": "code",
   "execution_count": null,
   "id": "romance-failing",
   "metadata": {},
   "outputs": [],
   "source": [
    "# Step 10. Plot the results\n",
    "\n",
    "x = np.linspace(-1, 1, 2001)\n",
    "\n",
    "fig, axes = plt.subplots(4, 4, figsize=(16,16))\n",
    "for i in range(4):\n",
    "    for j in range(4):\n",
    "        n = i * 4 + j\n",
    "                \n",
    "        axes[i][j].plot(x, ChebTn(x))\n",
    "        axes[i][j].axhline(y=0, color='k', lw=0.5)\n",
    "        \n",
    "        if n != 0:\n",
    "            roots = roots_list[n]\n",
    "            axes[i][j].scatter(roots, ChebTn(roots))"
   ]
  },
  {
   "cell_type": "markdown",
   "id": "classical-stake",
   "metadata": {},
   "source": [
    "Question: we learned in the lecture that it is difficult to find all roots of a function,\n",
    "but nsection() and all_roots() seem to work fine.\n",
    "Why nsection() and all_roots() work?\n",
    "What's their limitation?\n",
    "In what situation will things break down?\n",
    "\n",
    "Please write your answers in this cell:\n",
    "\n",
    "#________"
   ]
  }
 ],
 "metadata": {
  "kernelspec": {
   "display_name": "Python 3 (ipykernel)",
   "language": "python",
   "name": "python3"
  },
  "language_info": {
   "codemirror_mode": {
    "name": "ipython",
    "version": 3
   },
   "file_extension": ".py",
   "mimetype": "text/x-python",
   "name": "python",
   "nbconvert_exporter": "python",
   "pygments_lexer": "ipython3",
   "version": "3.10.8"
  }
 },
 "nbformat": 4,
 "nbformat_minor": 5
}
