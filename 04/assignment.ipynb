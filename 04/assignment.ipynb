{
 "cells": [
  {
   "cell_type": "markdown",
   "id": "outer-airplane",
   "metadata": {},
   "source": [
    "# PHYS 105A:  Introduction to Scientific Computing\n",
    "\n",
    "## The `Python` Programming Language (continued)\n",
    "\n",
    "Module, Class, Package"
   ]
  },
  {
   "cell_type": "code",
   "execution_count": null,
   "id": "innocent-soccer",
   "metadata": {},
   "outputs": [],
   "source": [
    "# Problem 1:\n",
    "#\n",
    "# write a function that returns all the peaks in the last plot of the lecture\n",
    "# store it in a module file and import it, find all the peaks, and mark them in the plot\n"
   ]
  }
 ],
 "metadata": {
  "kernelspec": {
   "display_name": "Python 3 (ipykernel)",
   "language": "python",
   "name": "python3"
  },
  "language_info": {
   "codemirror_mode": {
    "name": "ipython",
    "version": 3
   },
   "file_extension": ".py",
   "mimetype": "text/x-python",
   "name": "python",
   "nbconvert_exporter": "python",
   "pygments_lexer": "ipython3",
   "version": "3.10.8"
  }
 },
 "nbformat": 4,
 "nbformat_minor": 5
}
