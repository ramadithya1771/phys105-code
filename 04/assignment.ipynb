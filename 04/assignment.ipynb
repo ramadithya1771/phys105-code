{
 "cells": [
  {
   "cell_type": "markdown",
   "id": "outer-airplane",
   "metadata": {},
   "source": [
    "# PHYS 105A:  Introduction to Scientific Computing\n",
    "\n",
    "## The `Python` Programming Language (continued)\n",
    "\n",
    "Module, Class, Package"
   ]
  },
  {
   "cell_type": "code",
   "execution_count": null,
   "id": "innocent-soccer",
   "metadata": {},
   "outputs": [],
   "source": [
    "# Problem 1:\n",
    "#\n",
    "# write a function that returns all the peaks in the last plot of the lecture\n",
    "# store it in a module file and import it, find all the peaks, and mark them in the plot\n",
    "\n",
    "import math\n",
    "from matplotlib import pyplot as plt\n",
    "\n",
    "mu = 0.\n",
    "sigma = 1.\n",
    "x = [i/10*sigma for i in range(-100,100)] # first definition of list x\n",
    "\n",
    "gausd = { # first definition of the Gaussian dictionary for multigaus\n",
    "    '1':{'mu':-5.,'sigma':1.},\n",
    "    '2':{'mu':0.,'sigma':0.5},\n",
    "    '3':{'mu':5.,'sigma':2.}\n",
    "        }\n",
    "\n",
    "class mygaus:\n",
    "\n",
    "    expression = '1/(σ*sqrt(2π)) * exp(-(x-μ)^2/(2*σ^2))'         # class variable shared by all instances\n",
    "\n",
    "    def __init__(self, name, gausd):\n",
    "        self.name = name    # instance variable unique to each instance\n",
    "        self.gausd = gausd\n",
    "        self.components = len(gausd.keys())\n",
    "        self.means = [gausd[k]['mu'] for k in sorted(gausd.keys())]\n",
    "        self.sigmas = [gausd[k]['sigma'] for k in sorted(gausd.keys())]\n",
    "        \n",
    "    def add_component(self,mu,sigma):\n",
    "        self.gausd[str(self.components+1)] = {'mu':mu,'sigma':sigma}\n",
    "        self.components += 1\n",
    "        self.means.append(mu)\n",
    "        self.sigmas.append(sigma)\n",
    "\n",
    "    def df(self,x,y,x0):\n",
    "        if x0 < min(x) or x0 > max(x):\n",
    "            raise Exception('x0 is not within the function x range')\n",
    "        ind = 0\n",
    "        while x[ind] < x0: # what's the assumption here?\n",
    "            ind += 1\n",
    "        # indices around x0\n",
    "        ind2 = ind\n",
    "        ind1 = ind - 1\n",
    "        return (y[ind2]-y[ind1])/(x[ind2]-x[ind1])\n",
    "    \n",
    "    def gaus(self,X,mu,sigma):\n",
    "        return 1./(sigma*math.sqrt(2.*math.pi)) * math.exp(-(X-mu)**2/(2.*sigma**2))\n",
    "    \n",
    "    def multigaus(self,X):\n",
    "        d=self.gausd\n",
    "        out = 0.\n",
    "        for k in d.keys():\n",
    "            mu = d[k]['mu']\n",
    "            sigma = d[k]['sigma']\n",
    "            out += self.gaus(X,mu,sigma)\n",
    "        return out\n",
    "         \n",
    "    def export(self,x):\n",
    "        y = [self.multigaus(X) for X in x]\n",
    "        return y\n",
    "           \n",
    "mg = mygaus('gaus1',gausd)\n",
    "mgy = mg.export(x)\n",
    "plt.plot(x,mgy)\n"
   ]
  },
  {
   "cell_type": "code",
   "execution_count": null,
   "id": "8ba71349",
   "metadata": {},
   "outputs": [],
   "source": []
  }
 ],
 "metadata": {
  "kernelspec": {
   "display_name": "Python 3 (ipykernel)",
   "language": "python",
   "name": "python3"
  },
  "language_info": {
   "codemirror_mode": {
    "name": "ipython",
    "version": 3
   },
   "file_extension": ".py",
   "mimetype": "text/x-python",
   "name": "python",
   "nbconvert_exporter": "python",
   "pygments_lexer": "ipython3",
   "version": "3.9.13"
  }
 },
 "nbformat": 4,
 "nbformat_minor": 5
}
