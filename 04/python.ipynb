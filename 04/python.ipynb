{
 "cells": [
  {
   "cell_type": "markdown",
   "id": "prostate-myanmar",
   "metadata": {
    "slideshow": {
     "slide_type": "slide"
    }
   },
   "source": [
    "# PHYS 105A:  Introduction to Scientific Computing\n",
    "\n",
    "## The `Python` Programming Language (continued)\n",
    "\n",
    "Module, Class, Package\n"
   ]
  },
  {
   "cell_type": "code",
   "execution_count": null,
   "id": "65204f57",
   "metadata": {},
   "outputs": [],
   "source": [
    "# let's import some packages we learned\n",
    "\n",
    "import math\n",
    "from matplotlib import pyplot as plt"
   ]
  },
  {
   "cell_type": "code",
   "execution_count": null,
   "id": "under-wallpaper",
   "metadata": {},
   "outputs": [],
   "source": [
    "# let's define the Guassian function with default parameter values:\n",
    "# Gaussian function https://en.wikipedia.org/wiki/Gaussian_function\n",
    "\n",
    "def gaus(X,mu=0.,sigma=1.):\n",
    "    return 1./(sigma*math.sqrt(2.*math.pi)) * math.exp(-(X-mu)**2/(2.*sigma**2))"
   ]
  },
  {
   "cell_type": "code",
   "execution_count": null,
   "id": "46547f77",
   "metadata": {
    "scrolled": true
   },
   "outputs": [],
   "source": [
    "# let's see what it looks like\n",
    "\n",
    "mu = 0.\n",
    "sigma = 1.\n",
    "x = [i/10*sigma for i in range(-100,100)] # first definition of list x\n",
    "y = [gaus(X,mu=mu,sigma=sigma) for X in x] # first definition of list y\n",
    "plt.plot(x,y)\n",
    "plt.show()"
   ]
  },
  {
   "cell_type": "code",
   "execution_count": null,
   "id": "84d4d995",
   "metadata": {},
   "outputs": [],
   "source": [
    "# let's define a multi-Gaussian function\n",
    "\n",
    "def multigaus(X,d={'1':{'mu':0.,'sigma':1.}}):\n",
    "    out = 0.\n",
    "    for k in d.keys():\n",
    "        mu = d[k]['mu']\n",
    "        sigma = d[k]['sigma']\n",
    "        out += gaus(X,mu,sigma)\n",
    "    return out"
   ]
  },
  {
   "cell_type": "code",
   "execution_count": null,
   "id": "47e1d9fc",
   "metadata": {},
   "outputs": [],
   "source": [
    "# let's see what it looks like to have three Gaussians with different standard deviation\n",
    "\n",
    "gausd = { # first definition of the Gaussian dictionary for multigaus\n",
    "    '1':{'mu':-5.,'sigma':1.},\n",
    "    '2':{'mu':0.,'sigma':0.5},\n",
    "    '3':{'mu':5.,'sigma':2.}\n",
    "        }\n",
    "yy = [multigaus(X,gausd) for X in x] # first definition of list yy\n",
    "plt.plot(x,yy)\n",
    "plt.show()"
   ]
  },
  {
   "cell_type": "code",
   "execution_count": null,
   "id": "2d6014fd",
   "metadata": {},
   "outputs": [],
   "source": [
    "# let's define a derivative function\n",
    "\n",
    "def df(x,y,x0):\n",
    "    if x0 < min(x) or x0 > max(x):\n",
    "        raise Exception('x0 is not within the function x range')\n",
    "    ind = 0\n",
    "    while x[ind] < x0: # what's the assumption here?\n",
    "        ind += 1\n",
    "    # indices around x0\n",
    "    ind2 = ind\n",
    "    ind1 = ind - 1\n",
    "    return (y[ind2]-y[ind1])/(x[ind2]-x[ind1])"
   ]
  },
  {
   "cell_type": "code",
   "execution_count": null,
   "id": "27eeeb3b",
   "metadata": {},
   "outputs": [],
   "source": [
    "# let's compute derivative at x0 = -20\n",
    "# it raises the exception because the value is out of range\n",
    "\n",
    "x0 = -20\n",
    "slope = df(x,yy,x0)"
   ]
  },
  {
   "cell_type": "code",
   "execution_count": null,
   "id": "10db22e4",
   "metadata": {},
   "outputs": [],
   "source": [
    "# let's compute derivatives at x0=-6,5 in the multi-Gaussian yy\n",
    "x1 = -6\n",
    "y1 = multigaus(x1,gausd)\n",
    "s1 = df(x,yy,x1)\n",
    "x2 = 5\n",
    "y2 = multigaus(x2,gausd)\n",
    "s2 = df(x,yy,x2)\n",
    "\n",
    "# let's plot the lines\n",
    "plt.plot(x,yy)\n",
    "yy1 = [s1*(X-x1)+y1 for X in x] # line crossing (x1,y1)\n",
    "yy2 = [s2*(X-x2)+y2 for X in x] # line crossing (x2,y2)\n",
    "plt.plot(x,yy1,'k--')\n",
    "plt.plot(x,yy2,'k:')\n",
    "plt.ylim(0,1)\n",
    "plt.scatter([x1,x2],[y1,y2])\n",
    "plt.show()"
   ]
  },
  {
   "cell_type": "code",
   "execution_count": null,
   "id": "7b10a193",
   "metadata": {
    "scrolled": true
   },
   "outputs": [],
   "source": [
    "# let's save the above lines into the module \"mymodule.py\"\n",
    "# let's import it and do the calculations and plottings again\n",
    "\n",
    "import mymodule\n",
    "\n",
    "# the single Gaussian\n",
    "yyy = [mymodule.gaus(X,mu=mu,sigma=sigma) for X in x] # first definition of list yyy\n",
    "plt.plot(x,yyy)\n",
    "plt.show()\n"
   ]
  },
  {
   "cell_type": "code",
   "execution_count": null,
   "id": "71fded9e",
   "metadata": {},
   "outputs": [],
   "source": [
    "# the multi-Gaussian\n",
    "\n",
    "yyyy = [mymodule.multigaus(X,gausd) for X in x] # first definition of list yyyy\n",
    "plt.plot(x,yyyy)\n",
    "plt.show()\n",
    "\n",
    "# the derivative plots should be the same\n",
    "# try excuting mymodule.py in terminal"
   ]
  },
  {
   "cell_type": "code",
   "execution_count": null,
   "id": "cbfa0fac",
   "metadata": {},
   "outputs": [],
   "source": [
    "# Python Class provides a little more than module\n",
    "# below is a simple example from Python doc\n",
    "\n",
    "class MyClass:\n",
    "    \"\"\"A simple example class\"\"\"\n",
    "    i = 12345\n",
    "    def f(self):\n",
    "        return 'hello world'"
   ]
  },
  {
   "cell_type": "code",
   "execution_count": null,
   "id": "c684b4ce",
   "metadata": {},
   "outputs": [],
   "source": [
    "# let's see what it does\n",
    "\n",
    "print(MyClass.i)\n",
    "print(MyClass.f)\n",
    "print(MyClass.__doc__)\n",
    "\n",
    "# let's create an instance of MyClass\n",
    "mc = MyClass()\n",
    "print(mc.i)\n",
    "print(mc.f)\n",
    "print(mc.f())\n",
    "print(MyClass.f(mc))"
   ]
  },
  {
   "cell_type": "code",
   "execution_count": null,
   "id": "24f188a2",
   "metadata": {
    "scrolled": true
   },
   "outputs": [],
   "source": [
    "class mygaus:\n",
    "\n",
    "    expression = '1/(σ*sqrt(2π)) * exp(-(x-μ)^2/(2*σ^2))'         # class variable shared by all instances\n",
    "\n",
    "    def __init__(self, name, gausd):\n",
    "        self.name = name    # instance variable unique to each instance\n",
    "        self.gausd = gausd\n",
    "        self.components = len(gausd.keys())\n",
    "        self.means = [gausd[k]['mu'] for k in sorted(gausd.keys())]\n",
    "        self.sigmas = [gausd[k]['sigma'] for k in sorted(gausd.keys())]\n",
    "        \n",
    "    def add_component(self,mu,sigma):\n",
    "        self.gausd[str(self.components+1)] = {'mu':mu,'sigma':sigma}\n",
    "        self.components += 1\n",
    "        self.means.append(mu)\n",
    "        self.sigmas.append(sigma)\n",
    "\n",
    "    def df(self,x,y,x0):\n",
    "        if x0 < min(x) or x0 > max(x):\n",
    "            raise Exception('x0 is not within the function x range')\n",
    "        ind = 0\n",
    "        while x[ind] < x0: # what's the assumption here?\n",
    "            ind += 1\n",
    "        # indices around x0\n",
    "        ind2 = ind\n",
    "        ind1 = ind - 1\n",
    "        return (y[ind2]-y[ind1])/(x[ind2]-x[ind1])\n",
    "    \n",
    "    def gaus(self,X,mu,sigma):\n",
    "        return 1./(sigma*math.sqrt(2.*math.pi)) * math.exp(-(X-mu)**2/(2.*sigma**2))\n",
    "    \n",
    "    def multigaus(self,X):\n",
    "        d=self.gausd\n",
    "        out = 0.\n",
    "        for k in d.keys():\n",
    "            mu = d[k]['mu']\n",
    "            sigma = d[k]['sigma']\n",
    "            out += self.gaus(X,mu,sigma)\n",
    "        return out\n",
    "         \n",
    "    def export(self,x):\n",
    "        y = [self.multigaus(X) for X in x]\n",
    "        return y\n",
    "           \n",
    "mg = mygaus('gaus1',gausd)\n",
    "mgy = mg.export(x)\n",
    "plt.plot(x,mgy)\n",
    "\n",
    "# let's see the derivative again\n",
    "x3 = -2.5\n",
    "y3 = mg.multigaus(x3)\n",
    "s3 = mg.df(x,mgy,x3)\n",
    "yy3 = [s3*(X-x3)+y3 for X in x] # line crossing (x3,y3)\n",
    "plt.plot(x,yy3,'k:')\n"
   ]
  },
  {
   "cell_type": "code",
   "execution_count": null,
   "id": "967fe0d4",
   "metadata": {
    "scrolled": true
   },
   "outputs": [],
   "source": [
    "# let's add a Gaussian component\n",
    "\n",
    "mg.add_component(-2.5,0.5)\n",
    "mgy1 = mg.export(x)\n",
    "plt.plot(x,mgy1)\n",
    "\n",
    "# let's see the derivative again\n",
    "x3 = -2.5\n",
    "y3 = mg.multigaus(x3)\n",
    "s3 = mg.df(x,mgy,x3)\n",
    "yy3 = [s3*(X-x3)+y3 for X in x] # line crossing (x3,y3)\n",
    "plt.plot(x,yy3,'k:')\n",
    "plt.ylim(0,3)"
   ]
  },
  {
   "cell_type": "raw",
   "id": "94c36eb1",
   "metadata": {},
   "source": [
    "# Python package\n",
    "# https://packaging.python.org/en/latest/tutorials/packaging-projects/\n",
    "\n",
    "packaging_tutorial/\n",
    "├── LICENSE\n",
    "├── pyproject.toml\n",
    "├── README.md\n",
    "├── src/\n",
    "│   └── example_package_YOUR_USERNAME_HERE/\n",
    "│       ├── __init__.py\n",
    "│       └── example.py\n",
    "└── tests/"
   ]
  }
 ],
 "metadata": {
  "celltoolbar": "Slideshow",
  "kernelspec": {
   "display_name": "Python 3 (ipykernel)",
   "language": "python",
   "name": "python3"
  },
  "language_info": {
   "codemirror_mode": {
    "name": "ipython",
    "version": 3
   },
   "file_extension": ".py",
   "mimetype": "text/x-python",
   "name": "python",
   "nbconvert_exporter": "python",
   "pygments_lexer": "ipython3",
   "version": "3.10.8"
  }
 },
 "nbformat": 4,
 "nbformat_minor": 5
}
