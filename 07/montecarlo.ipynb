{
 "cells": [
  {
   "cell_type": "markdown",
   "id": "capable-insulin",
   "metadata": {
    "slideshow": {
     "slide_type": "slide"
    }
   },
   "source": [
    "# PHYS 105A:  Introduction to Scientific Computing\n",
    "\n",
    "## Random Numbers and Monte Carlo Methods"
   ]
  },
  {
   "cell_type": "markdown",
   "id": "taken-industry",
   "metadata": {
    "slideshow": {
     "slide_type": "slide"
    }
   },
   "source": [
    "* In physical science, students very often start with the concept that everything can be done exactly and deterministically.\n",
    "\n",
    "* This can be one of the biggest misconcept!\n",
    "\n",
    "* Many physical processes are non-deterministic by nature.  Examples include:\n",
    "  * Radioactive decay\n",
    "  * Quantum mechanics\n",
    "\n",
    "* Sometime, even when the governing equations are deterministic, the results are still non-deterministic.  Examples include:\n",
    "  * 3-body problem: https://www.youtube.com/watch?v=D2YhKaANbWE&ab_channel=PhysicsSimulations\n",
    "  * Brownian motion\n",
    "  * Thermal noise\n",
    "\n",
    "* Therefore, in computer we need some way to model these non-deterministic systems."
   ]
  },
  {
   "cell_type": "markdown",
   "id": "accessory-broadway",
   "metadata": {
    "slideshow": {
     "slide_type": "slide"
    }
   },
   "source": [
    "From Wikipedia:\n",
    "\n",
    "Monte Carlo methods, or Monte Carlo experiments, are a broad class of computational algorithms that rely on repeated random sampling to obtain numerical results. The underlying concept is to use randomness to solve problems that might be deterministic in principle. They are often used in physical and mathematical problems and are most useful when it is difficult or impossible to use other approaches. Monte Carlo methods are mainly used in three problem classes: \n",
    "* optimization\n",
    "* numerical integration\n",
    "* generating draws from a probability distribution"
   ]
  },
  {
   "cell_type": "markdown",
   "id": "ff721adb",
   "metadata": {},
   "source": [
    "Question:\n",
    "    \n",
    "* how do you find out magnetic field lines?\n",
    "* how do you know your structure-finding algorithm is robust (for example, you make your own program to find all bubbles in an image of the Galaxy)?"
   ]
  },
  {
   "cell_type": "code",
   "execution_count": null,
   "id": "equipped-disclosure",
   "metadata": {
    "slideshow": {
     "slide_type": "slide"
    }
   },
   "outputs": [],
   "source": [
    "# Let's try python's random number library\n",
    "\n",
    "import random as rnd\n",
    "\n",
    "print(rnd.random())             # return a random float in the range [0,1)\n",
    "print(rnd.randrange(100))       # return a random int in the range [0, 100)\n",
    "print(rnd.randint(a=0,b=99))    # return a random int in the range [a, b+1)\n",
    "print(rnd.gauss(mu=0, sigma=1)) # sample from a Gaussian distribution"
   ]
  },
  {
   "cell_type": "code",
   "execution_count": null,
   "id": "adaptive-elizabeth",
   "metadata": {
    "slideshow": {
     "slide_type": "slide"
    }
   },
   "outputs": [],
   "source": [
    "# We may plot the results of these random number generators\n",
    "\n",
    "from matplotlib import pyplot as plt\n",
    "\n",
    "Rs = [rnd.random() for i in range(1000)]\n",
    "plt.hist(Rs)"
   ]
  },
  {
   "cell_type": "code",
   "execution_count": null,
   "id": "recognized-provider",
   "metadata": {
    "slideshow": {
     "slide_type": "slide"
    }
   },
   "outputs": [],
   "source": [
    "Rs = [rnd.randrange(100) for i in range(1000)]\n",
    "plt.hist(Rs)"
   ]
  },
  {
   "cell_type": "code",
   "execution_count": null,
   "id": "musical-tobacco",
   "metadata": {
    "scrolled": true,
    "slideshow": {
     "slide_type": "slide"
    }
   },
   "outputs": [],
   "source": [
    "Rs = [rnd.gauss(0, 1) for i in range(1000)]\n",
    "plt.hist(Rs)"
   ]
  },
  {
   "cell_type": "code",
   "execution_count": null,
   "id": "a774d2ea",
   "metadata": {
    "slideshow": {
     "slide_type": "slide"
    }
   },
   "outputs": [],
   "source": [
    "# We may even show the random numbers in image\n",
    "\n",
    "plt.imshow([[rnd.gauss(0,1) for i in range(100)] for j in range(100)])"
   ]
  },
  {
   "cell_type": "code",
   "execution_count": null,
   "id": "approved-protein",
   "metadata": {
    "slideshow": {
     "slide_type": "slide"
    }
   },
   "outputs": [],
   "source": [
    "# There is also a seed() function\n",
    "\n",
    "rnd.seed(1234)\n",
    "print([rnd.randrange(100) for i in range(10)])\n",
    "\n",
    "rnd.seed(1234)\n",
    "print([rnd.randrange(100) for i in range(10)])\n",
    "\n",
    "# change the seed number and run again, do you see the difference?"
   ]
  },
  {
   "cell_type": "markdown",
   "id": "unavailable-marketplace",
   "metadata": {
    "slideshow": {
     "slide_type": "slide"
    }
   },
   "source": [
    "* Once we have a random number generator, we are ready to develop Monte Carlo methods!\n",
    "\n",
    "* We will start with a simple example of random walk.  The model is very simple:\n",
    "  * We start with a (drunk) person at the center of the street.\n",
    "  * As time t to t+1, the person randomly move one way +1 or the other -1 along the street.\n",
    "  * The problem is, after n steps, how far away is the person away from the center of the street?"
   ]
  },
  {
   "cell_type": "code",
   "execution_count": null,
   "id": "postal-redhead",
   "metadata": {
    "slideshow": {
     "slide_type": "slide"
    }
   },
   "outputs": [],
   "source": [
    "# let's set up this problem in the following way:\n",
    "\n",
    "T = range(1, 1000+1) # time step\n",
    "X = [0] # initial position\n",
    "\n",
    "for t in T:\n",
    "    last = X[-1]            # last position of list X\n",
    "    r    = rnd.randint(0,1) # we generate 0 or 1 randomly, see above for randint\n",
    "    if r == 0:              # depending on r, we step +1 or -1\n",
    "        curr = last + 1\n",
    "    else:\n",
    "        curr = last - 1\n",
    "    X.append(curr)          # append the current position to the list X\n",
    "\n",
    "# let's plot this random walk\n",
    "plt.plot(X)\n",
    "\n",
    "# can we convert these codes into a function? what would be the input and the output?"
   ]
  },
  {
   "cell_type": "code",
   "execution_count": null,
   "id": "potential-victory",
   "metadata": {
    "slideshow": {
     "slide_type": "slide"
    }
   },
   "outputs": [],
   "source": [
    "# In order to find out how random walk behave statistically,\n",
    "# we want to be able to run many simulations!\n",
    "\n",
    "# It is convenient to define a function\n",
    "\n",
    "def randomwalk(n_steps=1000):\n",
    "    X = [0] # initial position\n",
    "    \n",
    "    for t in range(n_steps):\n",
    "        last = X[-1]            # last position\n",
    "        r    = rnd.randint(0,1) # we generate 0 or 1 randomly\n",
    "        if r == 0:              # depending on r, we step left or right\n",
    "            curr = last + 1\n",
    "        else:\n",
    "            curr = last - 1    \n",
    "        X.append(curr)          # append the current position to the list X\n",
    "        \n",
    "    return X                    # return the result\n",
    "\n",
    "# And we can use this function in another loop.\n",
    "for i in range(10):\n",
    "    plt.plot(randomwalk())"
   ]
  },
  {
   "cell_type": "code",
   "execution_count": null,
   "id": "polished-mortgage",
   "metadata": {
    "slideshow": {
     "slide_type": "slide"
    }
   },
   "outputs": [],
   "source": [
    "# We may now ask how far away the peron would walk depending on the number of steps.\n",
    "\n",
    "D = []\n",
    "for t in T:\n",
    "    X = randomwalk(t)\n",
    "    D.append(abs(X[-1]))\n",
    "    \n",
    "plt.plot(D)\n",
    "\n",
    "# Clearly, the distance gets farther when the number of steps increase.\n",
    "# But this figure is too noisy to show the dependency."
   ]
  },
  {
   "cell_type": "code",
   "execution_count": null,
   "id": "divine-bidder",
   "metadata": {
    "slideshow": {
     "slide_type": "slide"
    }
   },
   "outputs": [],
   "source": [
    "# There are multiple ways to make the above figure less noise.\n",
    "# One way is to simply do multiple numerical experiments for the same number of steps.\n",
    "# And obtain the average distance.\n",
    "\n",
    "n_trials = 100\n",
    "D = []\n",
    "for t in T:\n",
    "    M = 0\n",
    "    for trial in range(n_trials):\n",
    "        X  = randomwalk(t)\n",
    "        M += abs(X[-1])\n",
    "    M /= n_trials\n",
    "    D.append(M)\n",
    "    \n",
    "plt.plot(D)\n",
    "\n",
    "# The plot is much better!"
   ]
  },
  {
   "cell_type": "code",
   "execution_count": null,
   "id": "catholic-milan",
   "metadata": {
    "slideshow": {
     "slide_type": "slide"
    }
   },
   "outputs": [],
   "source": [
    "# let's plot this in log-log scale.\n",
    "# And compare it with the law of diffusion D ~ sqrt(T)\n",
    "\n",
    "plt.loglog(T, D)\n",
    "plt.plot(T, [t**0.5 for t in T])"
   ]
  },
  {
   "cell_type": "markdown",
   "id": "hired-medium",
   "metadata": {
    "slideshow": {
     "slide_type": "slide"
    }
   },
   "source": [
    "* You may use this simple random walk model to model real physical process.\n",
    "\n",
    "* For example, the Brownian motion, which describe how pollen is randomly pushed by water molecules.\n",
    "\n",
    "![Brownian motion](https://upload.wikimedia.org/wikipedia/commons/c/c2/Brownian_motion_large.gif)\n",
    "\n",
    "* Einstein published a paper on Brownian motion in 1905, which is one of his first major scientific contributions.\n",
    "* Einstein argued that the displacement of a Brownian particle is not proportional to the elapsed time, but rather to its square root.\n",
    "\n",
    "![Einstein paper](https://books.google.com/books/content?id=6E90uQAACAAJ&printsec=frontcover&img=1&zoom=1&imgtk=AFLRE73LNhOSPC3TgN-nQbwWZcT9e6HMW3OBrA2xXzu0xA3a-yB5eLs6UFMVMObtICAS4stFGkBRnNIUShEtCNjR2WspNO0vs46rB07TYcmRBZn1WF0SGWziM5n39N757D7XX5-udBYg)"
   ]
  },
  {
   "cell_type": "code",
   "execution_count": null,
   "id": "innovative-numbers",
   "metadata": {
    "slideshow": {
     "slide_type": "slide"
    }
   },
   "outputs": [],
   "source": [
    "# The simplest model of Brownian motion is a two-dimension random walk.\n",
    "\n",
    "X = randomwalk()\n",
    "Y = randomwalk()\n",
    "\n",
    "plt.figure(figsize=(12,12))\n",
    "plt.plot(X, Y)\n",
    "plt.gca().set_aspect('equal')\n",
    "\n",
    "# The resulting plot looks slightly funny because random walk forces x and y both to move at exactly one step.\n",
    "# The final outcome is that the particle can only move in diagonal directions."
   ]
  },
  {
   "cell_type": "code",
   "execution_count": null,
   "id": "timely-springer",
   "metadata": {
    "slideshow": {
     "slide_type": "slide"
    }
   },
   "outputs": [],
   "source": [
    "# But this artifact becomes irrelevant when we model random walk for many many more steps.\n",
    "\n",
    "X = randomwalk(100000)\n",
    "Y = randomwalk(100000)\n",
    "\n",
    "plt.figure(figsize=(12,12))\n",
    "plt.plot(X, Y)\n",
    "plt.gca().set_aspect('equal')"
   ]
  }
 ],
 "metadata": {
  "celltoolbar": "Slideshow",
  "kernelspec": {
   "display_name": "Python 3 (ipykernel)",
   "language": "python",
   "name": "python3"
  },
  "language_info": {
   "codemirror_mode": {
    "name": "ipython",
    "version": 3
   },
   "file_extension": ".py",
   "mimetype": "text/x-python",
   "name": "python",
   "nbconvert_exporter": "python",
   "pygments_lexer": "ipython3",
   "version": "3.10.8"
  }
 },
 "nbformat": 4,
 "nbformat_minor": 5
}
