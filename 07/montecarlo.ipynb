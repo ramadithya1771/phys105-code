{
 "cells": [
  {
   "cell_type": "markdown",
   "id": "capable-insulin",
   "metadata": {
    "slideshow": {
     "slide_type": "slide"
    }
   },
   "source": [
    "# PHYS 105A:  Introduction to Scientific Computing\n",
    "\n",
    "## Random Numbers and Monte Carlo Methods"
   ]
  },
  {
   "cell_type": "markdown",
   "id": "taken-industry",
   "metadata": {
    "slideshow": {
     "slide_type": "slide"
    }
   },
   "source": [
    "* In physical science, students very often start with the concept that everything can be done exactly and deterministically.\n",
    "\n",
    "* This can be one of the biggest misconcept!\n",
    "\n",
    "* Many physical processes are non-deterministic by nature.  Examples include:\n",
    "  * Radioactive decay\n",
    "  * Quantum mechanics\n",
    "\n",
    "* Sometime, even when the governing equations are in-principle deterministic, the results are still non-deterministic.  Examples include:\n",
    "  * 3-body problem: https://www.youtube.com/watch?v=D2YhKaANbWE&ab_channel=PhysicsSimulations\n",
    "  * Brownian motion\n",
    "  * Fluid instability: https://youtu.be/Bqg31OwAqEQ\n",
    "  * Turbulence: https://youtu.be/Q2HFwsThk0U\n",
    " \n",
    "* There is a need to model these non-deterministic systems.\n",
    "  * Probability theory\n",
    "  * Stochastic (random) process \n",
    "  * Very interesting Veritasium vidoe: https://youtu.be/A5w-dEgIU1M\n",
    "\n",
    "* In computation physics, we use Monte Carlo methods."
   ]
  },
  {
   "cell_type": "markdown",
   "id": "accessory-broadway",
   "metadata": {
    "slideshow": {
     "slide_type": "slide"
    }
   },
   "source": [
    "From Wikipedia:\n",
    "\n",
    "Monte Carlo methods, or Monte Carlo experiments, are a broad class of computational algorithms that rely on repeated random sampling to obtain numerical results. The underlying concept is to use randomness to solve problems that might be deterministic in principle. They are often used in physical and mathematical problems and are most useful when it is difficult or impossible to use other approaches. Monte Carlo methods are mainly used in three problem classes: \n",
    "* optimization\n",
    "* numerical integration\n",
    "* generating draws from a probability distribution"
   ]
  },
  {
   "cell_type": "markdown",
   "id": "ff721adb",
   "metadata": {},
   "source": [
    "Question:\n",
    "\n",
    "* how do you find out magnetic field lines?\n",
    "* how do you know your structure-finding algorithm is robust (for example, you make your own program to find all bubbles in an image of the Galaxy)?\n",
    "* what is the simplest way to input constant energy to a turbulent system?  https://youtu.be/4ORDgzIwK00"
   ]
  },
  {
   "cell_type": "markdown",
   "id": "9f67dd1f-32d8-4e16-aa61-c98dba5c726b",
   "metadata": {},
   "source": [
    "## Implement a Pseudo Random Number Generator\n",
    "\n",
    "One may imaging performing Monte Carlo \"simulation\" by tossing coins.\n",
    "But this approach has at least two fundamental problems:\n",
    "\n",
    "* It will take forever.\n",
    "* Coin toss is not [completely fair](https://www.scientificamerican.com/article/scientists-destroy-illusion-that-coin-toss-flips-are-50-50/).\n",
    "\n",
    "Thankful mathematicians and computer scientist helped us do better.\n",
    "Introducing pseudo random number generator.\n",
    "\n",
    "* A typical pseudo random number generator has an internal state that is called the seed.\n",
    "* This seed is then processed by a function to jump to another state.\n",
    "* Pseudo random number generator is designed in a way that the outcome of the function is very sensitive to its input.\n",
    "* A small difference of the seed will result a complete different result."
   ]
  },
  {
   "cell_type": "code",
   "execution_count": null,
   "id": "f36fc209-a0fa-494d-b744-93a50b8e5427",
   "metadata": {},
   "outputs": [],
   "source": [
    "# In order to understand the concept of a random number generator, let's implement one ourself.\n",
    "\n",
    "mynext = 1\n",
    "\n",
    "def myrand(): # NOT RECOMMENDED for real application.\n",
    "    global mynext # by default, python does not recognize variable in a different scope.\n",
    "    mynext = mynext * 1103515245 + 12345 # the \"linear congruential generator\"\n",
    "    return int(mynext//65536) % 32768 # translate from C\n",
    "\n",
    "# This random number generator would generate integers in the domain [0, 32768).\n",
    "# This information is usually provided to user by\n",
    "\n",
    "MYRAND_MAX = 32768-1\n",
    "\n",
    "# There are reasons for choosing the strange constants.  Take a look at\n",
    "#     https://en.wikipedia.org/wiki/Linear_congruential_generator\n",
    "# if you are interested."
   ]
  },
  {
   "cell_type": "code",
   "execution_count": null,
   "id": "cc4713ea-a389-427d-af55-60fa2472e2bc",
   "metadata": {},
   "outputs": [],
   "source": [
    "# Now, every time we run `rand()`, we will get a different number\n",
    "\n",
    "myrand()"
   ]
  },
  {
   "cell_type": "code",
   "execution_count": null,
   "id": "772ae27e-5859-4f9f-84cd-157d5e98a85b",
   "metadata": {},
   "outputs": [],
   "source": [
    "# We may just print many of them at the same time:\n",
    "\n",
    "Rs = [myrand() for i in range(100)]\n",
    "print(Rs)"
   ]
  },
  {
   "cell_type": "code",
   "execution_count": null,
   "id": "db12c395-b7e0-4913-9cd8-4cd40e5eefa3",
   "metadata": {},
   "outputs": [],
   "source": [
    "# Sometime it is useful to make sure your random number sequence remains the same.\n",
    "# In our case, you may notice that we can simply reset the `mynext` global variable to reset the sequence.\n",
    "# The value you put in `mynext` is often called the \"seed\".\n",
    "\n",
    "print('The following two lists are not the same:')\n",
    "print([myrand() for i in range(10)])\n",
    "print([myrand() for i in range(10)])\n",
    "\n",
    "print('We may ensure that they are the same by \"seeding\" the random number generator with a fixed value:')\n",
    "\n",
    "mynext = 1234\n",
    "print([myrand() for i in range(10)])\n",
    "\n",
    "mynext = 1234\n",
    "print([myrand() for i in range(10)])"
   ]
  },
  {
   "cell_type": "markdown",
   "id": "1747547a-ad9a-43b6-8a3f-c88e2118946e",
   "metadata": {},
   "source": [
    "* The above random number generator is very simple and is the standard implementation in many (old) ANSI C libraries!\n",
    "* However, because how the ANSI C standard was written, this create a lot problems.\n",
    "  * The standard only require RAND_MAX be at least 32767. If one want to evulate 1e6 points (which is just a 1000x1000 pixel image and is pretty small), you will actually be evaluating the same 32768 points 30 times each!\n",
    "  * Some implementation \"tried\" to imporve the algorithm, e.g., swapping the lower and higher bytes. But these tricks sometime ruins the generator.\n",
    "  * We mentioned that integrating high-dimension space is an important application of Monte Carlo methods. However, the above random number generator create correlation in k-space.\n",
    "* Thankfully, ptyhon's random number generator is based on the \"more reliable\" Mersenne Twister algorithm.\n",
    "* From now on, unless for demostration purpose, we will use python's built-in random number generators."
   ]
  },
  {
   "cell_type": "code",
   "execution_count": null,
   "id": "3caccc7b-f2b2-45d1-b3a1-f9f9e2846088",
   "metadata": {},
   "outputs": [],
   "source": [
    "# Let's try python's random number library\n",
    "\n",
    "import random as rnd\n",
    "\n",
    "print(rnd.random())             # return a random float in the range [0,1)\n",
    "print(rnd.randrange(100))       # return a random int in the range [0, 100)\n",
    "print(rnd.randint(a=0,b=99))    # return a random int in the range [a, b+1)\n",
    "print(rnd.gauss(mu=0, sigma=1)) # sample from a Gaussian distribution"
   ]
  },
  {
   "cell_type": "code",
   "execution_count": null,
   "id": "adaptive-elizabeth",
   "metadata": {
    "slideshow": {
     "slide_type": "slide"
    }
   },
   "outputs": [],
   "source": [
    "# We may plot the results of these random number generators\n",
    "\n",
    "from matplotlib import pyplot as plt\n",
    "\n",
    "Rs = [rnd.random() for i in range(1000)]\n",
    "plt.hist(Rs)"
   ]
  },
  {
   "cell_type": "code",
   "execution_count": null,
   "id": "recognized-provider",
   "metadata": {
    "slideshow": {
     "slide_type": "slide"
    }
   },
   "outputs": [],
   "source": [
    "Rs = [rnd.randrange(100) for i in range(1000)]\n",
    "plt.hist(Rs)"
   ]
  },
  {
   "cell_type": "code",
   "execution_count": null,
   "id": "musical-tobacco",
   "metadata": {
    "scrolled": true,
    "slideshow": {
     "slide_type": "slide"
    }
   },
   "outputs": [],
   "source": [
    "Rs = [rnd.gauss(0, 1) for i in range(1000)]\n",
    "plt.hist(Rs)"
   ]
  },
  {
   "cell_type": "code",
   "execution_count": null,
   "id": "a774d2ea",
   "metadata": {
    "slideshow": {
     "slide_type": "slide"
    }
   },
   "outputs": [],
   "source": [
    "# We may even show the random numbers in image\n",
    "\n",
    "plt.imshow([[rnd.gauss(0,1) for i in range(100)] for j in range(100)])"
   ]
  },
  {
   "cell_type": "code",
   "execution_count": null,
   "id": "approved-protein",
   "metadata": {
    "slideshow": {
     "slide_type": "slide"
    }
   },
   "outputs": [],
   "source": [
    "# There is also a seed() function\n",
    "\n",
    "rnd.seed(1234)\n",
    "print([rnd.randrange(100) for i in range(10)])\n",
    "\n",
    "rnd.seed(1234)\n",
    "print([rnd.randrange(100) for i in range(10)])\n",
    "\n",
    "# change the seed number and run again, do you see the difference?"
   ]
  },
  {
   "cell_type": "markdown",
   "id": "unavailable-marketplace",
   "metadata": {
    "slideshow": {
     "slide_type": "slide"
    }
   },
   "source": [
    "* Once we have a random number generator, we are ready to develop Monte Carlo methods!\n",
    "\n",
    "* We will start with a simple example of random walk.  The model is very simple:\n",
    "  * We start with a (drunk) person at the center of the street.\n",
    "  * As time t to t+1, the person randomly move one way +1 or the other -1 along the street.\n",
    "  * The problem is, after n steps, how far away is the person away from the center of the street?"
   ]
  },
  {
   "cell_type": "code",
   "execution_count": null,
   "id": "postal-redhead",
   "metadata": {
    "slideshow": {
     "slide_type": "slide"
    }
   },
   "outputs": [],
   "source": [
    "# let's set up this problem in the following way:\n",
    "\n",
    "T = range(1, 1000+1) # time step\n",
    "X = [0] # initial position\n",
    "\n",
    "for t in T:\n",
    "    last = X[-1]            # last position of list X\n",
    "    r    = rnd.randint(0,1) # we generate 0 or 1 randomly, see above for randint\n",
    "    if r == 0:              # depending on r, we step +1 or -1\n",
    "        curr = last + 1\n",
    "    else:\n",
    "        curr = last - 1\n",
    "    X.append(curr)          # append the current position to the list X\n",
    "\n",
    "# let's plot this random walk\n",
    "plt.plot(X)\n",
    "\n",
    "# can we convert these codes into a function? what would be the input and the output?"
   ]
  },
  {
   "cell_type": "code",
   "execution_count": null,
   "id": "potential-victory",
   "metadata": {
    "slideshow": {
     "slide_type": "slide"
    }
   },
   "outputs": [],
   "source": [
    "# In order to find out how random walk behave statistically,\n",
    "# we want to be able to run many simulations!\n",
    "\n",
    "# It is convenient to define a function\n",
    "\n",
    "def randomwalk(n_steps=1000):\n",
    "    X = [0] # initial position\n",
    "    \n",
    "    for t in range(n_steps):\n",
    "        last = X[-1]            # last position\n",
    "        r    = rnd.randint(0,1) # we generate 0 or 1 randomly\n",
    "        if r == 0:              # depending on r, we step left or right\n",
    "            curr = last + 1\n",
    "        else:\n",
    "            curr = last - 1    \n",
    "        X.append(curr)          # append the current position to the list X\n",
    "        \n",
    "    return X                    # return the result\n",
    "\n",
    "# And we can use this function in another loop.\n",
    "for i in range(10):\n",
    "    plt.plot(randomwalk())"
   ]
  },
  {
   "cell_type": "code",
   "execution_count": null,
   "id": "polished-mortgage",
   "metadata": {
    "slideshow": {
     "slide_type": "slide"
    }
   },
   "outputs": [],
   "source": [
    "# We may now ask how far away the peron would walk depending on the number of steps.\n",
    "\n",
    "D = []\n",
    "for t in T:\n",
    "    X = randomwalk(t)\n",
    "    D.append(abs(X[-1]))\n",
    "    \n",
    "plt.plot(D)\n",
    "\n",
    "# Clearly, the distance gets farther when the number of steps increase.\n",
    "# But this figure is too noisy to show the dependency."
   ]
  },
  {
   "cell_type": "code",
   "execution_count": null,
   "id": "divine-bidder",
   "metadata": {
    "slideshow": {
     "slide_type": "slide"
    }
   },
   "outputs": [],
   "source": [
    "# There are multiple ways to make the above figure less noise.\n",
    "# One way is to simply do multiple numerical experiments for the same number of steps.\n",
    "# And obtain the average distance.\n",
    "\n",
    "n_trials = 100\n",
    "D = []\n",
    "for t in T:\n",
    "    M = 0\n",
    "    for trial in range(n_trials):\n",
    "        X  = randomwalk(t)\n",
    "        M += abs(X[-1])\n",
    "    M /= n_trials\n",
    "    D.append(M)\n",
    "    \n",
    "plt.plot(D)\n",
    "\n",
    "# The plot is much better!"
   ]
  },
  {
   "cell_type": "code",
   "execution_count": null,
   "id": "catholic-milan",
   "metadata": {
    "slideshow": {
     "slide_type": "slide"
    }
   },
   "outputs": [],
   "source": [
    "# let's plot this in log-log scale.\n",
    "# And compare it with the law of diffusion D ~ sqrt(T)\n",
    "\n",
    "plt.loglog(T, D)\n",
    "plt.plot(T, [t**0.5 for t in T])"
   ]
  },
  {
   "cell_type": "markdown",
   "id": "hired-medium",
   "metadata": {
    "slideshow": {
     "slide_type": "slide"
    }
   },
   "source": [
    "* You may use this simple random walk model to model real physical process.\n",
    "\n",
    "* For example, the Brownian motion, which describe how pollen is randomly pushed by water molecules.\n",
    "\n",
    "![Brownian motion](https://upload.wikimedia.org/wikipedia/commons/c/c2/Brownian_motion_large.gif)\n",
    "\n",
    "* Einstein published a paper on Brownian motion in 1905, which is one of his first major scientific contributions.\n",
    "* Einstein argued that the displacement of a Brownian particle is not proportional to the elapsed time, but rather to its square root.\n",
    "\n",
    "![Einstein paper](https://books.google.com/books/content?id=6E90uQAACAAJ&printsec=frontcover&img=1&zoom=1&imgtk=AFLRE73LNhOSPC3TgN-nQbwWZcT9e6HMW3OBrA2xXzu0xA3a-yB5eLs6UFMVMObtICAS4stFGkBRnNIUShEtCNjR2WspNO0vs46rB07TYcmRBZn1WF0SGWziM5n39N757D7XX5-udBYg)"
   ]
  },
  {
   "cell_type": "code",
   "execution_count": null,
   "id": "innovative-numbers",
   "metadata": {
    "slideshow": {
     "slide_type": "slide"
    }
   },
   "outputs": [],
   "source": [
    "# The simplest model of Brownian motion is a two-dimension random walk.\n",
    "\n",
    "X = randomwalk()\n",
    "Y = randomwalk()\n",
    "\n",
    "plt.figure(figsize=(12,12))\n",
    "plt.plot(X, Y)\n",
    "plt.gca().set_aspect('equal')\n",
    "\n",
    "# The resulting plot looks slightly funny because random walk forces x and y both to move at exactly one step.\n",
    "# The final outcome is that the particle can only move in diagonal directions."
   ]
  },
  {
   "cell_type": "code",
   "execution_count": null,
   "id": "timely-springer",
   "metadata": {
    "slideshow": {
     "slide_type": "slide"
    }
   },
   "outputs": [],
   "source": [
    "# But this artifact becomes irrelevant when we model random walk for many many more steps.\n",
    "\n",
    "X = randomwalk(100000)\n",
    "Y = randomwalk(100000)\n",
    "\n",
    "plt.figure(figsize=(12,12))\n",
    "plt.plot(X, Y)\n",
    "plt.gca().set_aspect('equal')"
   ]
  }
 ],
 "metadata": {
  "celltoolbar": "Slideshow",
  "kernelspec": {
   "display_name": "Python 3 (ipykernel)",
   "language": "python",
   "name": "python3"
  },
  "language_info": {
   "codemirror_mode": {
    "name": "ipython",
    "version": 3
   },
   "file_extension": ".py",
   "mimetype": "text/x-python",
   "name": "python",
   "nbconvert_exporter": "python",
   "pygments_lexer": "ipython3",
   "version": "3.11.8"
  }
 },
 "nbformat": 4,
 "nbformat_minor": 5
}
