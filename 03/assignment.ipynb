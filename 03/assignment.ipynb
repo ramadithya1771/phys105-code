{
 "cells": [
  {
   "cell_type": "markdown",
   "id": "outer-airplane",
   "metadata": {},
   "source": [
    "## PHYS 105A:  Introduction to Scientific Computing\n",
    "\n",
    "# Assignment: Simple Plotting with `Python`\n",
    "\n",
    "In this assignment, we will learn how to do simple plotting with python."
   ]
  },
  {
   "cell_type": "code",
   "execution_count": null,
   "id": "detailed-nicaragua",
   "metadata": {},
   "outputs": [],
   "source": [
    "# Step 1. Import Libraries\n",
    "#\n",
    "# Although there are libraries such as `numpy` and `scipy` that helps scientific computing in python,\n",
    "# we will not use these libraries for this assignment.\n",
    "# The only external libraries allowed are `math` and `matplotlib`.\n",
    "\n",
    "from math import *\n",
    "from matplotlib import pyplot as plt"
   ]
  },
  {
   "cell_type": "code",
   "execution_count": null,
   "id": "occupied-grant",
   "metadata": {},
   "outputs": [],
   "source": [
    "# Step 2. Sample the x-axis\n",
    "\n",
    "x = []\n",
    "for i in range(100):\n",
    "    x.append(i / 10)\n",
    "    \n",
    "print(x)"
   ]
  },
  {
   "cell_type": "code",
   "execution_count": null,
   "id": "boxed-webmaster",
   "metadata": {},
   "outputs": [],
   "source": [
    "# Step 3. Create the y-values\n",
    "\n",
    "y = []\n",
    "for X in x:\n",
    "    y.append(2*sin(X))\n",
    "    \n",
    "print(y)"
   ]
  },
  {
   "cell_type": "code",
   "execution_count": null,
   "id": "facial-miniature",
   "metadata": {},
   "outputs": [],
   "source": [
    "# Step 4. Plot the function\n",
    "\n",
    "plt.plot(x, y)\n",
    "plt.xlabel('x')\n",
    "plt.ylabel('2sin(x)')"
   ]
  },
  {
   "cell_type": "code",
   "execution_count": null,
   "id": "processed-printing",
   "metadata": {},
   "outputs": [],
   "source": [
    "# The syntax above to create lists are pretty ugly.\n",
    "# Python has a \"list comprehension\" syntax that makes thing slightly more readable.\n",
    "#\n",
    "# <list> = [<value> for <value> in <iterable>]\n",
    "#\n",
    "# The follow should plot the same function as above.\n",
    "\n",
    "x = [i/10 for i in range(100)]\n",
    "y = [2*sin(X) for X in x]\n",
    "\n",
    "plt.plot(x, y)\n",
    "plt.xlabel('x')\n",
    "plt.ylabel('2sin(x)')"
   ]
  },
  {
   "cell_type": "code",
   "execution_count": null,
   "id": "subsequent-staff",
   "metadata": {},
   "outputs": [],
   "source": [
    "# It's straightforward to plot error bars\n",
    "\n",
    "sigma = [0.1]*100\n",
    "print(sigma)\n",
    "\n",
    "plt.errorbar(x, y, yerr=sigma)\n",
    "plt.xlabel('x')\n",
    "plt.ylabel('2sin(x)')"
   ]
  },
  {
   "cell_type": "code",
   "execution_count": null,
   "id": "identified-great",
   "metadata": {},
   "outputs": [],
   "source": [
    "# Or change markers\n",
    "\n",
    "plt.plot(x, y, '+')\n",
    "plt.xlabel('x')\n",
    "plt.ylabel('2sin(x)')"
   ]
  },
  {
   "cell_type": "code",
   "execution_count": null,
   "id": "excess-piano",
   "metadata": {},
   "outputs": [],
   "source": [
    "# Or change linestyle\n",
    "\n",
    "plt.plot(x, y, ':')\n",
    "plt.xlabel('x')\n",
    "plt.ylabel('2sin(x)')"
   ]
  },
  {
   "cell_type": "code",
   "execution_count": null,
   "id": "innocent-soccer",
   "metadata": {},
   "outputs": [],
   "source": [
    "# Problem 1:\n",
    "#\n",
    "# Plot only values greater than 0\n",
    "x1 = []\n",
    "y1 = []\n",
    "for i in range(100):\n",
    "    if y[i] > 0:\n",
    "        x1.append(x[i])\n",
    "        y1.append(y[i])\n",
    "    \n",
    "plt.plot(x1, y1, '+')\n",
    "plt.xlabel('x')\n",
    "plt.ylabel('2sin(x)')"
   ]
  },
  {
   "cell_type": "code",
   "execution_count": null,
   "id": "forced-favorite",
   "metadata": {},
   "outputs": [],
   "source": [
    "# Problem 2:\n",
    "#\n",
    "# Plot the functions:\n",
    "#\n",
    "#     y = exp(-x)\n",
    "#     y = 1\n",
    "#     y = exp(+x)\n",
    "#\n",
    "# over the range [0, 3] on the same plot.\n",
    "#\n",
    "# Hint: you may call plt.plot() multiple times.\n",
    "\n",
    "y2 = []\n",
    "y3 = []\n",
    "y4 = []\n",
    "for X in x:\n",
    "    y2.append(exp(-X))\n",
    "    y3.append(1)\n",
    "    y4.append(exp(+X))\n",
    "    \n",
    "plt.plot(x, y2, 'o')\n",
    "plt.plot(x, y3, 'v')\n",
    "plt.plot(x, y4, '^')\n",
    "plt.xlim(0,3)\n",
    "plt.ylim(-1,10)"
   ]
  },
  {
   "cell_type": "code",
   "execution_count": null,
   "id": "cardiac-kenya",
   "metadata": {},
   "outputs": [],
   "source": [
    "# Problem 3:\n",
    "#\n",
    "# Plot the above three functions\n",
    "# if the function value is greater than 2sin(x), use a different linestyle\n",
    "xx1 = []\n",
    "yy1 = []\n",
    "xx2 = []\n",
    "yy2 = []\n",
    "xx3 = []\n",
    "yy3 = []\n",
    "xx4 = []\n",
    "yy4 = []\n",
    "xx5 = []\n",
    "yy5 = []\n",
    "xx6 = []\n",
    "yy6 = []\n",
    "for i in range(100):\n",
    "    if y2[i] > 2*sin(x[i]):\n",
    "        xx1.append(x[i])\n",
    "        yy1.append(y2[i])\n",
    "    else:\n",
    "        xx2.append(x[i])\n",
    "        yy2.append(y2[i])\n",
    "        \n",
    "plt.plot(x,y,'-')\n",
    "plt.plot(xx1, yy1, 'o')\n",
    "plt.plot(xx2, yy2, 'v')\n",
    "plt.xlim(0,3)\n",
    "plt.ylim(-1,10)\n",
    "\n",
    "for i in range(100):\n",
    "    if y3[i] > 2*sin(x[i]):\n",
    "        xx3.append(x[i])\n",
    "        yy3.append(y3[i])\n",
    "    else:\n",
    "        xx4.append(x[i])\n",
    "        yy4.append(y3[i])\n",
    "        \n",
    "plt.plot(x,y,'-')\n",
    "plt.plot(xx3, yy3, 'o')\n",
    "plt.plot(xx4, yy4, 'v')\n",
    "\n",
    "for i in range(100):\n",
    "    if y4[i] > 2*sin(x[i]):\n",
    "        xx5.append(x[i])\n",
    "        yy5.append(y4[i])\n",
    "    else:\n",
    "        xx6.append(x[i])\n",
    "        yy6.append(y4[i])\n",
    "        \n",
    "plt.plot(x,y,'-')\n",
    "plt.plot(xx5, yy5, 'o')\n",
    "plt.plot(xx6, yy6, 'v')"
   ]
  },
  {
   "cell_type": "code",
   "execution_count": null,
   "id": "4262e39c",
   "metadata": {},
   "outputs": [],
   "source": []
  }
 ],
 "metadata": {
  "kernelspec": {
   "display_name": "Python 3 (ipykernel)",
   "language": "python",
   "name": "python3"
  },
  "language_info": {
   "codemirror_mode": {
    "name": "ipython",
    "version": 3
   },
   "file_extension": ".py",
   "mimetype": "text/x-python",
   "name": "python",
   "nbconvert_exporter": "python",
   "pygments_lexer": "ipython3",
   "version": "3.9.13"
  }
 },
 "nbformat": 4,
 "nbformat_minor": 5
}
