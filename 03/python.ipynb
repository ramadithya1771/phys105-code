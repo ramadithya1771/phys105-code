{
 "cells": [
  {
   "cell_type": "markdown",
   "id": "prostate-myanmar",
   "metadata": {
    "slideshow": {
     "slide_type": "slide"
    }
   },
   "source": [
    "# PHYS 105A:  Introduction to Scientific Computing\n",
    "\n",
    "## The `Python` Programming Language\n"
   ]
  },
  {
   "cell_type": "markdown",
   "id": "automotive-compound",
   "metadata": {
    "slideshow": {
     "slide_type": "slide"
    }
   },
   "source": [
    "## History of `Python`\n",
    "\n",
    "* `Python` was developed by Guido van Rossum the Netherlands in late 1980s\n",
    "* `Python` 2.0 was released on 16 October 2000.  Major features include garbage collector and support for Unicode.\n",
    "* `Python` 3.0 was released 3 December 2008.\n",
    "* You SHOULD use `python3` these days!\n",
    "\n",
    "![Guido van Rossum](https://upload.wikimedia.org/wikipedia/commons/e/e2/Guido-portrait-2014-drc.jpg)"
   ]
  },
  {
   "cell_type": "markdown",
   "id": "charming-particle",
   "metadata": {
    "slideshow": {
     "slide_type": "slide"
    }
   },
   "source": [
    "## Zen of Python\n",
    "\n",
    "* Beautiful is better than ugly.\n",
    "* Explicit is better than implicit.\n",
    "* Simple is better than complex.\n",
    "* Complex is better than complicated.\n",
    "* Readability counts."
   ]
  },
  {
   "cell_type": "markdown",
   "id": "2de5cf45",
   "metadata": {
    "slideshow": {
     "slide_type": "slide"
    }
   },
   "source": [
    "## Some `Python` resources:\n",
    "\n",
    "* https://scipy-lectures.org/intro/\n",
    "* https://www.freecodecamp.org/learn/scientific-computing-with-python/\n",
    "* https://aaltoscicomp.github.io/python-for-scicomp/"
   ]
  },
  {
   "cell_type": "markdown",
   "id": "considered-newsletter",
   "metadata": {
    "slideshow": {
     "slide_type": "slide"
    }
   },
   "source": [
    "Pull the latest class repository.\n",
    "\n",
    "    cd phys105a-s1\n",
    "    git pull\n",
    "    cd 03\n",
    "    jupyter notebook"
   ]
  },
  {
   "cell_type": "code",
   "execution_count": null,
   "id": "charged-winter",
   "metadata": {},
   "outputs": [],
   "source": [
    "# Everyone needs to learn the \"hello world\" program\n",
    "\n",
    "print(\"Hello Python!\")"
   ]
  },
  {
   "cell_type": "code",
   "execution_count": null,
   "id": "infinite-booth",
   "metadata": {},
   "outputs": [],
   "source": [
    "# Variable *assignment* is done by the equal \"=\" sign \n",
    "\n",
    "a = 1\n",
    "b = 5.0"
   ]
  },
  {
   "cell_type": "code",
   "execution_count": null,
   "id": "copyrighted-japan",
   "metadata": {},
   "outputs": [],
   "source": [
    "# Python is dynamic typed\n",
    "\n",
    "type(a)"
   ]
  },
  {
   "cell_type": "code",
   "execution_count": null,
   "id": "ordinary-reader",
   "metadata": {},
   "outputs": [],
   "source": [
    "type(b)"
   ]
  },
  {
   "cell_type": "code",
   "execution_count": null,
   "id": "rolled-queens",
   "metadata": {},
   "outputs": [],
   "source": [
    "type('abc')"
   ]
  },
  {
   "cell_type": "code",
   "execution_count": null,
   "id": "national-dodge",
   "metadata": {},
   "outputs": [],
   "source": [
    "# Python math operators\n",
    "\n",
    "print(a + 3)\n",
    "print(a - 3)\n",
    "print(a * 3)\n",
    "print(a ** 9)\n",
    "print(a /  3)\n",
    "print(a // 3)"
   ]
  },
  {
   "cell_type": "code",
   "execution_count": null,
   "id": "recent-alarm",
   "metadata": {},
   "outputs": [],
   "source": [
    "# Python comparison operators\n",
    "\n",
    "a > 3"
   ]
  },
  {
   "cell_type": "code",
   "execution_count": null,
   "id": "entertaining-garlic",
   "metadata": {},
   "outputs": [],
   "source": [
    "# Two equal signs to test if values are equal\n",
    "\n",
    "a == 3"
   ]
  },
  {
   "cell_type": "code",
   "execution_count": null,
   "id": "significant-insulin",
   "metadata": {},
   "outputs": [],
   "source": [
    "a <= 3"
   ]
  },
  {
   "cell_type": "code",
   "execution_count": null,
   "id": "finite-medline",
   "metadata": {},
   "outputs": [],
   "source": [
    "# Conditional statement: \n",
    "#\n",
    "# if <condition/boolean>:\n",
    "#     <statement>\n",
    "# [else:\n",
    "#     <statement>]\n",
    "#\n",
    "# Note that indentation is *requried*.\n",
    "\n",
    "if a > 3:\n",
    "    print(\"`a` is greater than 3\")\n",
    "else:\n",
    "    print(\"`a` is not greater than 3\")"
   ]
  },
  {
   "cell_type": "code",
   "execution_count": null,
   "id": "julian-editor",
   "metadata": {},
   "outputs": [],
   "source": [
    "# No indentation will give you error.\n",
    "\n",
    "if a > 3:\n",
    "print(\"`a` is greater than 3\")\n",
    "else:\n",
    "print(\"`a` is not greater than 3\")"
   ]
  },
  {
   "cell_type": "code",
   "execution_count": null,
   "id": "interracial-frost",
   "metadata": {},
   "outputs": [],
   "source": [
    "# In addition to computing, computers are also good at accounting.\n",
    "# Therefore, we need data structures to manage data.\n",
    "# The simplest python data structure is a \"tuple\"\n",
    "\n",
    "t = (1, 2.0, '3')\n",
    "t"
   ]
  },
  {
   "cell_type": "code",
   "execution_count": null,
   "id": "developmental-turkish",
   "metadata": {},
   "outputs": [],
   "source": [
    "# You may access value of a type by its index\n",
    "\n",
    "t[0]"
   ]
  },
  {
   "cell_type": "code",
   "execution_count": null,
   "id": "heated-greece",
   "metadata": {},
   "outputs": [],
   "source": [
    "# Tuples are immutable, i.e., you cannot change its conent.\n",
    "# The following will give you error.\n",
    "\n",
    "t[0] = 1"
   ]
  },
  {
   "cell_type": "code",
   "execution_count": null,
   "id": "annual-compression",
   "metadata": {},
   "outputs": [],
   "source": [
    "# The next data structure we need to learn is a list.\n",
    "\n",
    "l = [1, 2, 3]\n",
    "l"
   ]
  },
  {
   "cell_type": "code",
   "execution_count": null,
   "id": "sharing-timer",
   "metadata": {},
   "outputs": [],
   "source": [
    "# You may access elements of a list by indices\n",
    "\n",
    "l[0]"
   ]
  },
  {
   "cell_type": "code",
   "execution_count": null,
   "id": "elementary-biography",
   "metadata": {},
   "outputs": [],
   "source": [
    "l[0:2]"
   ]
  },
  {
   "cell_type": "code",
   "execution_count": null,
   "id": "renewable-running",
   "metadata": {},
   "outputs": [],
   "source": [
    "# You may change the values in a list or even extend the list.\n",
    "\n",
    "l[0] = 'a'\n",
    "l"
   ]
  },
  {
   "cell_type": "code",
   "execution_count": null,
   "id": "hearing-mapping",
   "metadata": {},
   "outputs": [],
   "source": [
    "l.append('d')\n",
    "l\n",
    "\n",
    "# You can also delete elements from a list (try to find out yourself)"
   ]
  },
  {
   "cell_type": "code",
   "execution_count": null,
   "id": "hidden-tattoo",
   "metadata": {},
   "outputs": [],
   "source": [
    "# Dictionary is another fundamental data structure in python.\n",
    "# It maps keys to values\n",
    "\n",
    "d = {'a':1, 'b':2, 'c':3}\n",
    "d"
   ]
  },
  {
   "cell_type": "code",
   "execution_count": null,
   "id": "prepared-worcester",
   "metadata": {},
   "outputs": [],
   "source": [
    "# You may access its values through keys\n",
    "\n",
    "d['a']"
   ]
  },
  {
   "cell_type": "code",
   "execution_count": null,
   "id": "flush-campbell",
   "metadata": {},
   "outputs": [],
   "source": [
    "# It is also mutable\n",
    "\n",
    "d['a'] = 'a'\n",
    "d"
   ]
  },
  {
   "cell_type": "code",
   "execution_count": null,
   "id": "sustainable-broad",
   "metadata": {},
   "outputs": [],
   "source": [
    "d['d'] = 'd'\n",
    "d"
   ]
  },
  {
   "cell_type": "code",
   "execution_count": null,
   "id": "beautiful-congress",
   "metadata": {},
   "outputs": [],
   "source": [
    "# Once you can store multiple values, you may also ask python to do many work for you.\n",
    "# This can be done by \"loop\".\n",
    "# The \"for-loop\" is very often used in python:\n",
    "#\n",
    "# for <index> in <iterable>:\n",
    "#     <statement>\n",
    "#\n",
    "# Indentation is *requried* again.\n",
    "\n",
    "for i in range(10):\n",
    "    print(i)"
   ]
  },
  {
   "cell_type": "code",
   "execution_count": null,
   "id": "passive-colony",
   "metadata": {},
   "outputs": [],
   "source": [
    "for i in range(10):\n",
    "    print(i, '^2 = ', i**2)"
   ]
  },
  {
   "cell_type": "code",
   "execution_count": null,
   "id": "stretch-capitol",
   "metadata": {},
   "outputs": [],
   "source": [
    "for key, value in d.items():\n",
    "    print(key, value)"
   ]
  },
  {
   "cell_type": "code",
   "execution_count": null,
   "id": "brown-enterprise",
   "metadata": {},
   "outputs": [],
   "source": [
    "# Programming is about managing complexities.\n",
    "# Once you write a program/algorithm, you want to be able to resue it.\n",
    "# Python allows you define a function.\n",
    "\n",
    "def func(a):\n",
    "    return a * a"
   ]
  },
  {
   "cell_type": "code",
   "execution_count": null,
   "id": "armed-submission",
   "metadata": {},
   "outputs": [],
   "source": [
    "func(8)"
   ]
  },
  {
   "cell_type": "code",
   "execution_count": null,
   "id": "small-northeast",
   "metadata": {},
   "outputs": [],
   "source": [
    "for i in range(10):\n",
    "    print(i, '^2 = ', func(i))"
   ]
  },
  {
   "cell_type": "code",
   "execution_count": null,
   "id": "living-germany",
   "metadata": {},
   "outputs": [],
   "source": [
    "# We may combine the data structures we learned with functions and return mutiple values through tuples.\n",
    "# This is actually a special feature in python!  Other language such as C can only return one value.\n",
    "\n",
    "def divmod(a, b):\n",
    "    # Return both the quotient and remainder\n",
    "    q = a // b\n",
    "    r = a %  b\n",
    "    return q, r"
   ]
  },
  {
   "cell_type": "code",
   "execution_count": null,
   "id": "formed-oxford",
   "metadata": {},
   "outputs": [],
   "source": [
    "# You may get them through a tuple\n",
    "\n",
    "qr = divmod(10, 3)\n",
    "print(qr[0])\n",
    "print(qr[1])"
   ]
  },
  {
   "cell_type": "code",
   "execution_count": null,
   "id": "utility-waterproof",
   "metadata": {},
   "outputs": [],
   "source": [
    "# Or you may \"unpack\" them inline\n",
    "\n",
    "q, r = divmod(10, 3)\n",
    "print(q)\n",
    "print(r)"
   ]
  },
  {
   "cell_type": "code",
   "execution_count": null,
   "id": "appointed-straight",
   "metadata": {},
   "outputs": [],
   "source": [
    "# We've learned the most commonly used syntax in python.\n",
    "# However, when all the built-in features of python are not enough to solve your problem,\n",
    "# you can bring in additional features by the \"import\" statement.\n",
    "# The follow two statements have the same effect:\n",
    "\n",
    "import matplotlib.pyplot as plt\n",
    "from matplotlib import pyplot as plt"
   ]
  },
  {
   "cell_type": "code",
   "execution_count": null,
   "id": "imperial-model",
   "metadata": {},
   "outputs": [],
   "source": [
    "# matplotlib is a very powerful plotting library in python.  \n",
    "\n",
    "a = [0, 1, 2, 3, 4, 5, 6]\n",
    "plt.plot(a)"
   ]
  },
  {
   "cell_type": "code",
   "execution_count": null,
   "id": "driven-destiny",
   "metadata": {},
   "outputs": [],
   "source": [
    "# You may save the figure to a file\n",
    "\n",
    "a = [0, 1, 2, 3, 2, 1, 0]\n",
    "plt.plot(a)\n",
    "plt.savefig('fig.png')"
   ]
  }
 ],
 "metadata": {
  "celltoolbar": "Slideshow",
  "kernelspec": {
   "display_name": "Python 3 (ipykernel)",
   "language": "python",
   "name": "python3"
  },
  "language_info": {
   "codemirror_mode": {
    "name": "ipython",
    "version": 3
   },
   "file_extension": ".py",
   "mimetype": "text/x-python",
   "name": "python",
   "nbconvert_exporter": "python",
   "pygments_lexer": "ipython3",
   "version": "3.10.8"
  }
 },
 "nbformat": 4,
 "nbformat_minor": 5
}
