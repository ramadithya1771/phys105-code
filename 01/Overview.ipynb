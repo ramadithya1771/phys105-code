{
 "cells": [
  {
   "cell_type": "markdown",
   "metadata": {
    "slideshow": {
     "slide_type": "slide"
    }
   },
   "source": [
    "# PHYS 105A:  Introduction to Scientific Computing\n",
    "\n",
    "## Class \\#1: Overview"
   ]
  },
  {
   "cell_type": "markdown",
   "metadata": {
    "slideshow": {
     "slide_type": "slide"
    }
   },
   "source": [
    "Scientific computing refers to the use of computers and computational algorithms to solve problems in science, engineering, and other fields that involve the processing and analysis of large amounts of data. It often involves the use of advanced mathematical and statistical techniques, as well as the development of specialized software tools to handle the computational needs of a particular problem or application. Some common areas of scientific computing include:\n",
    "\n",
    "* Numerical analysis: The study of algorithms for performing numerical calculations, such as solving systems of equations, integration, optimization, and interpolation.\n",
    "* Scientific visualization: The use of computer graphics and visualization techniques to help understand and analyze scientific data.\n",
    "* High-performance computing: The use of supercomputers and other high-performance systems to solve very large-scale scientific and engineering problems.\n",
    "* Data mining and machine learning: The use of computational techniques to extract useful information from large datasets, and to build predictive models based on that data.\n",
    "\n",
    "Overall, scientific computing plays a key role in many fields of science and engineering, allowing researchers to analyze and understand complex phenomena, and to make predictions and design decisions based on that understanding."
   ]
  },
  {
   "cell_type": "markdown",
   "metadata": {
    "slideshow": {
     "slide_type": "slide"
    }
   },
   "source": [
    "### Numerical analysis\n",
    "* Linear Regression:\n",
    "![LR](https://upload.wikimedia.org/wikipedia/commons/3/3a/Linear_regression.svg \"LR\")\n",
    "\n",
    "* Numerical Integration:\n",
    "![NI](https://upload.wikimedia.org/wikipedia/commons/2/26/Integration_rectangle.svg \"NI\")\n",
    "\n",
    "* Equation Solving:\n",
    "![ES](https://upload.wikimedia.org/wikipedia/commons/e/e0/NewtonIteration_Ani.gif \"ES\")\n",
    "\n",
    "* Convolution:\n",
    "![Convolution](https://upload.wikimedia.org/wikipedia/commons/7/79/Convolution3.svg \"Convolution\")"
   ]
  },
  {
   "cell_type": "markdown",
   "metadata": {
    "slideshow": {
     "slide_type": "slide"
    }
   },
   "source": [
    "### Computational Science\n",
    "\n",
    "Physical Models $\\rightarrow$ Data and Results\n",
    "\n",
    "* Nonlinear and many degrees of freedom (DoF) systems:\n",
    "  * Kelvin--Helmholtz instability: https://youtu.be/Bqg31OwAqEQ\n",
    "  * Kolmogorov forced turbulence: https://youtu.be/Q2HFwsThk0U\n",
    "  * Magnetic Reconnection: https://youtu.be/mgUZwoR0gcE\n",
    "  \n",
    "* Multi-physics problems:\n",
    "  * Black hole accretion flow: https://youtu.be/-GQ1aUHwx-k\n",
    "  * Multi-wavelength black hole images: https://youtu.be/G6sSwRf_9ME\n",
    "  * Galactic center black hole: https://youtu.be/2bnP6UtfY2k\n",
    "  \n",
    "* Large scale simulation libraries:\n",
    "  * Illustris: https://www.illustris-project.org\n",
    "  * TNG Project: https://www.tng-project.org"
   ]
  },
  {
   "cell_type": "markdown",
   "metadata": {
    "slideshow": {
     "slide_type": "slide"
    }
   },
   "source": [
    "### Data Science\n",
    "\n",
    "Data and Machine-learning $\\rightarrow$ Result\n",
    "\n",
    "* Experiments with very large data sets:\n",
    "  * Event Horizon Telescope: https://eventhorizontelescope.org/science\n",
    "  * Vera C. Rubin Observatory (LSST): https://www.lsst.org/\n",
    "  \n",
    "* Let computer learn algorithms from data:\n",
    "  * Computer vision: http://www.image-net.org\n",
    "  * Self-driving cars: https://en.wikipedia.org/wiki/Self-driving_car\n",
    "\n",
    "* Knowledge discovery from data:\n",
    "  * UA Data Science Institute: https://datascience.arizona.edu/\n",
    "  * Machine-learning: https://scikit-learn.org/\n",
    "  \n",
    "* Artificial Intelligence (AI):\n",
    "  * AlphaGo: https://deepmind.com/research/case-studies/alphago-the-story-so-far\n",
    "  * AlphaFold: https://deepmind.com/blog/article/AlphaFold-Using-AI-for-scientific-discovery"
   ]
  },
  {
   "cell_type": "markdown",
   "metadata": {
    "slideshow": {
     "slide_type": "slide"
    }
   },
   "source": [
    "## Expected Learning Outcomes\n",
    "\n",
    "* understand the nature and application of computation methods in physical science;\n",
    "* use popular development tools (shell, Git, Jupyter, etc);\n",
    "* use good software development practices (version control, documentation);\n",
    "* use computational thinking to break down complex problems;\n",
    "* solve these problems by writing programs in the python and C/C++ programming languages;\n",
    "* speak and write about scientific knowledge;\n",
    "* appreciate computation complexity and have a basic awareness of numerical errors;\n",
    "* use data analysis and numerical methods properly, and be aware of their common pitfalls;\n",
    "* critically analyze and interpret data and results presented in tables, graphs and charts;\n",
    "* read and understand scientific literature;\n",
    "* aware of a wide range of science use cases, and develop the skill to self-learn computation tools and methods."
   ]
  },
  {
   "cell_type": "markdown",
   "metadata": {
    "slideshow": {
     "slide_type": "slide"
    }
   },
   "source": [
    "## Topics\n",
    "\n",
    "We plan to cover the following topics in PHYS 105A:\n",
    "\n",
    "\\#     | Lecture                                  | Hands-on\n",
    "---    | ---                                      | ---\n",
    "1      | Overview                                 | Sign up for accounts and set up development environment\n",
    "2      | Essential tools for scientific computing | Unix shells, vim editor, Git (assignment 10pts)\n",
    "3      | The `python` programming language        | Jupyter and `python` programming (assignment 10pts)\n",
    "4      | `python` module, class, package          | `python` programming (assignment 10pts)\n",
    "5      | File handling, Data processing           | Data processing (assignment 10pts)\n",
    "6      | Random numbers and Monte Carlo methods   | Monte Carlo (assignment 10pts); project planning\n",
    "7      | Root finding                             | Root finders (assignment 10pts); project\n",
    "8      | Numerical integration of functions       | work on project\n",
    "9      | project presentations\n",
    "...    | ...                                      | ...\n"
   ]
  },
  {
   "cell_type": "markdown",
   "metadata": {
    "slideshow": {
     "slide_type": "slide"
    }
   },
   "source": [
    "### Tentative schedule (subject to change):\n",
    "\n",
    "Week of | Monday     | Tuesday     | Wednesday   | Thursday | Friday\n",
    "---     | ---        | ---         | ---         | ---      | ---\n",
    "Jan  9  |            |             | #1          |\n",
    "Jan 16  | MLK Day    |             | #2          |\n",
    "Jan 23  |            | HO #2 due   | #3          |\n",
    "Jan 30  |            | HO #3 due   | #4          |\n",
    "Feb  6  |            | HO #4 due   | #5          |\n",
    "Feb 13  |            | HO #5 due   | #6 (project)|\n",
    "Feb 20  |            | HO #6 due   | #7          |\n",
    "Feb 27  |            | HO #7 due   | #8          |\n",
    "Mar  6  | spring recess              \n",
    "...     |"
   ]
  },
  {
   "cell_type": "markdown",
   "metadata": {
    "slideshow": {
     "slide_type": "slide"
    }
   },
   "source": [
    "## Grading Scale and Policies\n",
    "\n",
    "There are 9 assignments and 2 projects in total.\n",
    "Each assignment worth 10 points and each project worth 20 points.\n",
    "The points for a student's worst two assignments or one\n",
    "project will not be counted.\n",
    "In-class attendance worths 10 points.\n",
    "\n",
    "This course provides regular letter grades (A–E), which are based on a\n",
    "simple point system:\n",
    "\n",
    "* A: 90-100 points\n",
    "* B: 80-89 points\n",
    "* C: 70-79 points\n",
    "* D: 60-69 points\n",
    "* E:  <60 points\n",
    "\n",
    "No scaling will be applied."
   ]
  },
  {
   "cell_type": "markdown",
   "metadata": {
    "slideshow": {
     "slide_type": "slide"
    }
   },
   "source": [
    "## Questions?"
   ]
  }
 ],
 "metadata": {
  "celltoolbar": "Slideshow",
  "kernelspec": {
   "display_name": "Python 3 (ipykernel)",
   "language": "python",
   "name": "python3"
  },
  "language_info": {
   "codemirror_mode": {
    "name": "ipython",
    "version": 3
   },
   "file_extension": ".py",
   "mimetype": "text/x-python",
   "name": "python",
   "nbconvert_exporter": "python",
   "pygments_lexer": "ipython3",
   "version": "3.10.8"
  }
 },
 "nbformat": 4,
 "nbformat_minor": 4
}
