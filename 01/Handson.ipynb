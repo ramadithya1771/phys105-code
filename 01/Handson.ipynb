{
 "cells": [
  {
   "cell_type": "markdown",
   "metadata": {
    "slideshow": {
     "slide_type": "slide"
    }
   },
   "source": [
    "# PHYS 105A:  Introduction to Scientific Computing\n",
    "\n",
    "## Hands-on"
   ]
  },
  {
   "cell_type": "markdown",
   "metadata": {
    "slideshow": {
     "slide_type": "slide"
    }
   },
   "source": [
    "## Sign up for accounts\n",
    "\n",
    "Please sign up an account on GitHub: https://github.com/\n",
    "\n",
    "You will use it to get class notes and collaborate with team members."
   ]
  },
  {
   "cell_type": "markdown",
   "metadata": {
    "slideshow": {
     "slide_type": "slide"
    }
   },
   "source": [
    "## Set up development environment\n",
    "\n",
    "* Terminal/`bash`\n",
    "\n",
    "* `python` and Jupyter Notebook/Lab\n",
    "\n",
    "* `git` and Editors (vim)"
   ]
  },
  {
   "cell_type": "markdown",
   "metadata": {
    "slideshow": {
     "slide_type": "slide"
    }
   },
   "source": [
    "## Set up development environment\n",
    "\n",
    "* Windows\n",
    "  * Anaconda: https://www.anaconda.com/products/individual\n",
    "\n",
    "* Mac\n",
    "  * Anaconda: https://www.anaconda.com/products/individual\n",
    "\n",
    "* Linux:\n",
    "  * Anaconda: https://www.anaconda.com/products/individual\n",
    "  * apt-get:  `sudo apt update && sudo apt install jupyter-notebook`\n",
    "  \n",
    "* Create a Conda environment\n",
    "  * https://conda.io/projects/conda/en/latest/user-guide/tasks/manage-environments.html\n",
    "  * conda info --envs # list all environments\n",
    "  * conda create --name myenv\n",
    "  * conda install notebook\n",
    "  * jupyter notebook"
   ]
  },
  {
   "cell_type": "markdown",
   "metadata": {
    "slideshow": {
     "slide_type": "slide"
    }
   },
   "source": [
    "## Set up development environment\n",
    "\n",
    "* `which git`\n",
    "* `git config --global user.name \"John Doe\"`\n",
    "* `git config --global user.email johndoe@arizona.edu`\n",
    "\n",
    "* Editor\n",
    "  * `vim`\n",
    "  * `emacs`\n",
    "  * VSCode: https://code.visualstudio.com/\n",
    "  * Atom:   https://atom.io/"
   ]
  },
  {
   "cell_type": "markdown",
   "metadata": {
    "slideshow": {
     "slide_type": "slide"
    }
   },
   "source": [
    "## Clone and run hands-on notebook\n",
    "\n",
    "1. In your terminal, clone the course repository:\n",
    "    `git clone git@github.com:uarizona-phys105a-2024spring/phys105a-s1.git`\n",
    "    \n",
    "2. Run this Jupyter Notebook:\n",
    "    `jupyter notebook Handson.ipynb`\n",
    "    \n",
    "3. Run cells in this notebook by pressing shift-enters."
   ]
  },
  {
   "cell_type": "code",
   "execution_count": null,
   "metadata": {
    "slideshow": {
     "slide_type": "slide"
    }
   },
   "outputs": [],
   "source": [
    "# There are some sample python codes\n",
    "\n",
    "# In python, lines start with \"#\" are comments and are not executed.\n",
    "# You may use comments to clarify your program.\n",
    "\n",
    "# To assign a numerical value to a python variable, simply:\n",
    "a = 10\n",
    "\n",
    "# In Jupyter notebook, you may use the print function to print a variable.\n",
    "print(a)\n",
    "\n",
    "# you can check the variable type\n",
    "print(type(a))\n"
   ]
  },
  {
   "cell_type": "markdown",
   "metadata": {
    "slideshow": {
     "slide_type": "slide"
    }
   },
   "source": [
    "## the VIM editor\n",
    "\n",
    "common VIM commands:\n",
    "`i`: enter insert mode (`esc` to exit insert mode)\n",
    "`v`: enter visual mode (`esc` to exit visual mode)\n",
    "`:`: enter command mode (`esc` to exit)\n",
    "\n",
    "otherwise in normal mode:\n",
    "move up `k`\n",
    "move down `j`\n",
    "move left `h`\n",
    "move right `l`\n",
    "move up 100 lines `100k`\n",
    "beginning of line `0`\n",
    "end of line `$`\n",
    "start a new line below and insert `o`\n",
    "start a new line above and insert `O`\n",
    "search a word `/word`\n",
    "line selection `V`\n",
    "block selection `ctrl+v`\n",
    "replace foo with bar `:%s/foo/bar/gc`"
   ]
  }
 ],
 "metadata": {
  "celltoolbar": "Slideshow",
  "kernelspec": {
   "display_name": "Python 3 (ipykernel)",
   "language": "python",
   "name": "python3"
  },
  "language_info": {
   "codemirror_mode": {
    "name": "ipython",
    "version": 3
   },
   "file_extension": ".py",
   "mimetype": "text/x-python",
   "name": "python",
   "nbconvert_exporter": "python",
   "pygments_lexer": "ipython3",
   "version": "3.10.8"
  }
 },
 "nbformat": 4,
 "nbformat_minor": 4
}
